{
  "nbformat": 4,
  "nbformat_minor": 0,
  "metadata": {
    "colab": {
      "provenance": []
    },
    "kernelspec": {
      "name": "python3",
      "display_name": "Python 3"
    },
    "language_info": {
      "name": "python"
    }
  },
  "cells": [
    {
      "cell_type": "markdown",
      "source": [
        "### **1. Create an assert statement that throws an AssertionError if the variable spam is a negative integer.**"
      ],
      "metadata": {
        "id": "GGNM-6R2l6LE"
      }
    },
    {
      "cell_type": "markdown",
      "source": [
        "* assert spam >= 0, 'The spam variable is negative.'"
      ],
      "metadata": {
        "id": "D8H0ptvS0bKV"
      }
    },
    {
      "cell_type": "markdown",
      "source": [
        "### **2. Write an assert statement that triggers an AssertionError if the variables eggs and bacon contain strings that are the same as each other, even if their cases are different (that is, &#39;hello&#39; and &#39;hello&#39; are considered the same, and &#39;goodbye&#39; and &#39;GOODbye&#39; are also considered the same). ***"
      ],
      "metadata": {
        "id": "-1Rakaz3l8CD"
      }
    },
    {
      "cell_type": "markdown",
      "source": [
        "* assert eggs.lower() != bacon.lower(), 'The eggs and bacon variables are the same!' \n",
        "* assert eggs.upper() != bacon.upper(), 'The eggs and bacon variables are the same!'"
      ],
      "metadata": {
        "id": "gyvlKopTXKBT"
      }
    },
    {
      "cell_type": "markdown",
      "source": [
        "### **3. Create an assert statement that throws an AssertionError every time.**"
      ],
      "metadata": {
        "id": "YOWjA42AmDbF"
      }
    },
    {
      "cell_type": "markdown",
      "source": [
        "* assert False, 'This assertion always triggers.'"
      ],
      "metadata": {
        "id": "Dbb_1t7RXU2z"
      }
    },
    {
      "cell_type": "markdown",
      "source": [
        "### **4. What are the two lines that must be present in your software in order to call logging.debug()?**"
      ],
      "metadata": {
        "id": "4bqAANAvmNmx"
      }
    },
    {
      "cell_type": "markdown",
      "source": [
        "* import logging\n",
        "* logging.basicConfig(level=logging.DEBUG, format=' %(asctime)s - %(levelname)s - %(message)s')"
      ],
      "metadata": {
        "id": "Z-iJQNgAIozl"
      }
    },
    {
      "cell_type": "markdown",
      "source": [
        "### **5. What are the two lines that your program must have in order to have logging.debug() send a logging message to a file named programLog.txt?**"
      ],
      "metadata": {
        "id": "y5jCzM1smQsG"
      }
    },
    {
      "cell_type": "markdown",
      "source": [
        "* import logging\n",
        "* logging.basicConfig(filename='programLog.txt', level=logging.DEBUG,\n",
        "* format=' %(asctime)s - %(levelname)s - %(message)s')"
      ],
      "metadata": {
        "id": "c3jdpMsQU-pO"
      }
    },
    {
      "cell_type": "markdown",
      "source": [
        "### **6. What are the five levels of logging?**"
      ],
      "metadata": {
        "id": "r6-7rdGdmU3w"
      }
    },
    {
      "cell_type": "markdown",
      "source": [
        "* DEBUG, INFO, WARNING, ERROR, and CRITICAL"
      ],
      "metadata": {
        "id": "UxxZS9KAVLZO"
      }
    },
    {
      "cell_type": "markdown",
      "source": [
        "### **7. What line of code would you add to your software to disable all logging messages?**"
      ],
      "metadata": {
        "id": "BeI55pt2mWv7"
      }
    },
    {
      "cell_type": "markdown",
      "source": [
        "* logging.disable(logging.CRITICAL)"
      ],
      "metadata": {
        "id": "2dHWsopHVbI5"
      }
    },
    {
      "cell_type": "markdown",
      "source": [
        "### **8. Why is using logging messages better than using print() to display the same message?**"
      ],
      "metadata": {
        "id": "U6LPv-x0mZHL"
      }
    },
    {
      "cell_type": "markdown",
      "source": [
        "* You can disable logging messages without removing the logging function calls. \n",
        "* You can selectively disable lower-level logging messages. \n",
        "* You can create logging messages. \n",
        "* Logging messages provides a timestamp."
      ],
      "metadata": {
        "id": "h4TNpzNQwD5V"
      }
    },
    {
      "cell_type": "markdown",
      "source": [
        "### **9. What are the differences between the Step Over, Step In, and Step Out buttons in the debugger?**"
      ],
      "metadata": {
        "id": "UX4vFCnzmcQN"
      }
    },
    {
      "cell_type": "markdown",
      "source": [
        "* The Step button will move the debugger into a function call. \n",
        "* The Over button will quickly execute the function call without stepping into it. \n",
        "* The Out button will quickly execute the rest of the code until it steps out of the function it currently is in."
      ],
      "metadata": {
        "id": "4PDGABNNwXTs"
      }
    },
    {
      "cell_type": "markdown",
      "source": [
        "### **10. After you click Continue, when will the debugger stop ?**"
      ],
      "metadata": {
        "id": "WiEWfrRPme0x"
      }
    },
    {
      "cell_type": "markdown",
      "source": [
        "* After you click Go, the debugger will stop when it has reached the end of the program or a line with a breakpoint."
      ],
      "metadata": {
        "id": "cOV0OSQAweHB"
      }
    },
    {
      "cell_type": "markdown",
      "source": [
        "### **11. What is the concept of a breakpoint?**"
      ],
      "metadata": {
        "id": "eyWDh6qrmhu-"
      }
    },
    {
      "cell_type": "markdown",
      "source": [
        "* A breakpoint is an intentional stopping or pausing place in a program, put in place for debugging purposes. It is also sometimes simply referred to as a pause."
      ],
      "metadata": {
        "id": "m1Pu8le1wtM9"
      }
    }
  ]
}