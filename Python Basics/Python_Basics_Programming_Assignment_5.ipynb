{
  "nbformat": 4,
  "nbformat_minor": 0,
  "metadata": {
    "colab": {
      "provenance": []
    },
    "kernelspec": {
      "name": "python3",
      "display_name": "Python 3"
    },
    "language_info": {
      "name": "python"
    }
  },
  "cells": [
    {
      "cell_type": "markdown",
      "source": [
        "### **1. Write a Python Program to Find LCM?**"
      ],
      "metadata": {
        "id": "t0AZDjFjKYj2"
      }
    },
    {
      "cell_type": "code",
      "source": [
        "def lcm(num1, num2):\n",
        "  if num1 > num2:\n",
        "    greater = num1\n",
        "  else:\n",
        "    greater = num2\n",
        "  \n",
        "  while(True):\n",
        "    if greater % num1 == 0 and greater % num2 == 0:\n",
        "      lcm = greater\n",
        "      break\n",
        "    \n",
        "    greater += 1\n",
        "  \n",
        "  return lcm\n",
        "\n",
        "if __name__ == \"__main__\":\n",
        "  num1 = int(input(\"Enter first number: \"))\n",
        "  num2 = int(input(\"Enter second number: \"))\n",
        "\n",
        "  print(f\"The LCM of {num1} and {num2} is {lcm(num1, num2)}\")"
      ],
      "metadata": {
        "colab": {
          "base_uri": "https://localhost:8080/"
        },
        "id": "ho5EOUQSLfya",
        "outputId": "fcf71c36-c038-4997-9d02-e23a223c253d"
      },
      "execution_count": null,
      "outputs": [
        {
          "output_type": "stream",
          "name": "stdout",
          "text": [
            "Enter first number: 23\n",
            "Enter second number: 24\n",
            "The LCM of 23 and 24 is 552\n"
          ]
        }
      ]
    },
    {
      "cell_type": "markdown",
      "source": [
        "### **2. Write a Python Program to Find HCF?**"
      ],
      "metadata": {
        "id": "Jmagjx3bKah0"
      }
    },
    {
      "cell_type": "code",
      "source": [
        "def hcf(num1, num2):\n",
        "  if num1 < num2:\n",
        "    smaller = num1\n",
        "  else:\n",
        "    smaller = num2\n",
        "  \n",
        "  for i in range (1, smaller+1):\n",
        "    if num1 % i == 0 and num2 % i == 0:\n",
        "      hcf = i\n",
        "  \n",
        "  return hcf\n",
        "\n",
        "if __name__ == \"__main__\":\n",
        "  num1 = int(input(\"Enter first number: \"))\n",
        "  num2 = int(input(\"Enter second number: \"))\n",
        "\n",
        "  print(f\"The HCF of {num1} and {num2} is {hcf(num1, num2)}\")"
      ],
      "metadata": {
        "colab": {
          "base_uri": "https://localhost:8080/"
        },
        "id": "J6wjt-95NRE9",
        "outputId": "d8d03086-c1a8-4169-a0e4-2e18e35b488b"
      },
      "execution_count": null,
      "outputs": [
        {
          "output_type": "stream",
          "name": "stdout",
          "text": [
            "Enter first number: 12\n",
            "Enter second number: 15\n",
            "The HCF of 12 and 15 is 3\n"
          ]
        }
      ]
    },
    {
      "cell_type": "markdown",
      "source": [
        "### **3. Write a Python Program to Convert Decimal to Binary, Octal and Hexadecimal?**"
      ],
      "metadata": {
        "id": "AMCOSeKbKj7H"
      }
    },
    {
      "cell_type": "code",
      "source": [
        "###### Decimal To Binary ######\n",
        "def decimalToBinary(num):\n",
        "  if num >= 1:\n",
        "    decimalToBinary(num // 2)\n",
        "  print(num % 2, end='')\n",
        "\n",
        "###### Decimal To Octal ######\n",
        "def decimalToOctal(num):\n",
        "  octal = [0] * 100\n",
        "  i = 0\n",
        "\n",
        "  while num != 0:\n",
        "    octal[i] = num % 8\n",
        "    num = num // 8\n",
        "    i += 1\n",
        "  \n",
        "  for j in range(i-1, -1, -1):\n",
        "    print(octal[j], end='')\n",
        "\n",
        "###### Decimal To Hexadecimal ###### \n",
        "conversion_table = {0: '0', 1: '1', 2: '2', 3: '3',\n",
        "                    4: '4', 5: '5', 6: '6', 7: '7',\n",
        "                    8: '8', 9: '9', 10: 'A', 11: 'B',\n",
        "                    12: 'C', 13: 'D', 14: 'E', 15: 'F'}\n",
        "def decimalToHexadecimal(num):\n",
        "  if num <= 0:\n",
        "    return \"\"\n",
        "  \n",
        "  rem = num % 16\n",
        "  return decimalToHexadecimal(num//16) + conversion_table[rem]\n",
        "\n",
        "if __name__ == \"__main__\":\n",
        "  num = int(input(\"Enter a number: \"))\n",
        "  print(\"Binary format: \")\n",
        "  decimalToBinary(num)\n",
        "  print(\"\\nOctal format: \")\n",
        "  decimalToOctal(num)\n",
        "  print(\"\\nHexadecimal format: \")\n",
        "  print(decimalToHexadecimal(num))"
      ],
      "metadata": {
        "colab": {
          "base_uri": "https://localhost:8080/"
        },
        "id": "N8D81eMEPdsW",
        "outputId": "9ea1105a-9135-4319-9f10-62794b8ee8ea"
      },
      "execution_count": null,
      "outputs": [
        {
          "output_type": "stream",
          "name": "stdout",
          "text": [
            "Enter a number: 34\n",
            "Binary format: \n",
            "0100010\n",
            "Octal format: \n",
            "42\n",
            "Hexadecimal format: \n",
            "22\n"
          ]
        }
      ]
    },
    {
      "cell_type": "markdown",
      "source": [
        "### **4. Write a Python Program To Find ASCII value of a character?**"
      ],
      "metadata": {
        "id": "8NEgP9r0KmyY"
      }
    },
    {
      "cell_type": "code",
      "source": [
        "def asciiValue(ch):\n",
        "  return ord(ch)\n",
        "\n",
        "if __name__ == \"__main__\":\n",
        "  ch = input(\"Enter a character: \")\n",
        "  print(f\"ASCII value of {ch} is {asciiValue(ch)}\")"
      ],
      "metadata": {
        "colab": {
          "base_uri": "https://localhost:8080/"
        },
        "id": "ONsEYmjiYp16",
        "outputId": "29be68d3-a317-4bab-dcac-894f7979e92f"
      },
      "execution_count": null,
      "outputs": [
        {
          "output_type": "stream",
          "name": "stdout",
          "text": [
            "Enter a character: Z\n",
            "ASCII value of Z is 90\n"
          ]
        }
      ]
    },
    {
      "cell_type": "markdown",
      "source": [
        "### **5. Write a Python Program to Make a Simple Calculator with 4 basic mathematical operations?**"
      ],
      "metadata": {
        "id": "G6Rn_8tzKpDE"
      }
    },
    {
      "cell_type": "code",
      "source": [
        "def add(num1, num2):\n",
        "  return num1 + num2\n",
        "\n",
        "def subtract(num1, num2):\n",
        "  return num1 - num2\n",
        "\n",
        "def multiply(num1, num2):\n",
        "  return num1 * num2\n",
        "\n",
        "def divide(num1, num2):\n",
        "  if num2 == 0:\n",
        "    return \"Invalid input. Division by zero is not possible.\"\n",
        "  return num1 / num2\n",
        "\n",
        "\n",
        "if __name__ == \"__main__\":\n",
        "  print(\"Select operation.\")\n",
        "  print(\"1.Add\")\n",
        "  print(\"2.Subtract\")\n",
        "  print(\"3.Multiply\")\n",
        "  print(\"4.Divide\")\n",
        "\n",
        "  while True:\n",
        "\n",
        "    option = input(\"Enter choice(1/2/3/4): \")\n",
        "\n",
        "    if option in ('1', '2', '3', '4'):\n",
        "      num1 = float(input(\"Enter first number: \"))\n",
        "      num2 = float(input(\"Enter second number: \"))\n",
        "\n",
        "      if option == '1':\n",
        "        print(f\"{num1} + {num2} = {add(num1, num2)}\")\n",
        "\n",
        "      elif option == '2':\n",
        "        print(f\"{num1} - {num2} = {subtract(num1, num2)}\")\n",
        "\n",
        "      elif option == '3':\n",
        "        print(f\"{num1} * {num2} = {multiply(num1, num2)}\")\n",
        "\n",
        "      elif option == '4':\n",
        "        print(f\"{num1} / {num2} = {divide(num1, num2)}\")\n",
        "        \n",
        "      cont = input(\"Do you want to continue? Yes(0)/No(1): \")\n",
        "      if cont:\n",
        "        break\n",
        "      \n",
        "    else:\n",
        "        print(\"Invalid Input\")"
      ],
      "metadata": {
        "colab": {
          "base_uri": "https://localhost:8080/"
        },
        "id": "FSCy-cc3ZvIz",
        "outputId": "a9b47f87-05b3-4a08-9025-1d9752d6d8fd"
      },
      "execution_count": null,
      "outputs": [
        {
          "name": "stdout",
          "output_type": "stream",
          "text": [
            "Select operation.\n",
            "1.Add\n",
            "2.Subtract\n",
            "3.Multiply\n",
            "4.Divide\n",
            "Enter choice(1/2/3/4): 3\n",
            "Enter first number: 3\n",
            "Enter second number: 4\n",
            "3.0 * 4.0 = 12.0\n",
            "Do you want to continue? (yes/no): yes\n",
            "Enter choice(1/2/3/4): 4\n",
            "Enter first number: 5\n",
            "Enter second number: 2\n",
            "5.0 / 2.0 = 2.5\n",
            "Do you want to continue? (yes/no): no\n"
          ]
        }
      ]
    }
  ]
}