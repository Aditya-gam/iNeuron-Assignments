{
  "nbformat": 4,
  "nbformat_minor": 0,
  "metadata": {
    "colab": {
      "provenance": [],
      "collapsed_sections": []
    },
    "kernelspec": {
      "name": "python3",
      "display_name": "Python 3"
    },
    "language_info": {
      "name": "python"
    }
  },
  "cells": [
    {
      "cell_type": "markdown",
      "source": [
        "### **1. Why are functions advantageous to have in your programs?**"
      ],
      "metadata": {
        "id": "e3RfWuHH2NP1"
      }
    },
    {
      "cell_type": "markdown",
      "source": [
        "* Functions reduce the need for duplicate code. This makes programs shorter, easier to read, and easier to update.\n",
        "* It reduces the redundancy."
      ],
      "metadata": {
        "id": "JxzMCcJs3Vah"
      }
    },
    {
      "cell_type": "markdown",
      "source": [
        "### **2. When does the code in a function run: when it's specified or when it's called?**"
      ],
      "metadata": {
        "id": "EcsQBlT12QeO"
      }
    },
    {
      "cell_type": "markdown",
      "source": [
        "* Function code runs when the function is called and not when is specified or defined."
      ],
      "metadata": {
        "id": "TpSQz3ZU3lbc"
      }
    },
    {
      "cell_type": "markdown",
      "source": [
        "### **3. What statement creates a function?**"
      ],
      "metadata": {
        "id": "qR5nKMQE2T5S"
      }
    },
    {
      "cell_type": "markdown",
      "source": [
        "* In python a function is created with the def keyword. The def keyword is followed by the function name with round brackets and a colon."
      ],
      "metadata": {
        "id": "7x6gg8qP4TOI"
      }
    },
    {
      "cell_type": "markdown",
      "source": [
        "### **4. What is the difference between a function and a function call?**"
      ],
      "metadata": {
        "id": "2Pkp-BCT2WAg"
      }
    },
    {
      "cell_type": "markdown",
      "source": [
        "* A function is a block of code that does a particular operation and returns a result.\n",
        "* A function call is the code used to pass control to a function."
      ],
      "metadata": {
        "id": "fJapX7Dv4gMq"
      }
    },
    {
      "cell_type": "markdown",
      "source": [
        "### **5. How many global scopes are there in a Python program? How many local scopes?**"
      ],
      "metadata": {
        "id": "8J8yUAdA2XyU"
      }
    },
    {
      "cell_type": "markdown",
      "source": [
        "* There's only one global and one local Python scope per program execution. There are four scopes atmost during execution in python."
      ],
      "metadata": {
        "id": "UoSpxui85GFg"
      }
    },
    {
      "cell_type": "markdown",
      "source": [
        "### **6. What happens to variables in a local scope when the function call returns?**"
      ],
      "metadata": {
        "id": "XasHXMmM2Y8G"
      }
    },
    {
      "cell_type": "markdown",
      "source": [
        "* When the execution of the function returns, the local variables are destroyed."
      ],
      "metadata": {
        "id": "SCukpAFz5kJJ"
      }
    },
    {
      "cell_type": "markdown",
      "source": [
        "### **7. What is the concept of a return value? Is it possible to have a return value in an expression?**"
      ],
      "metadata": {
        "id": "iPYuugGB2Z_-"
      }
    },
    {
      "cell_type": "markdown",
      "source": [
        "* The value that a function returns to the caller is generally known as the function's return value. All Python functions have a return value.\n",
        "* Yes, it is possible to have return value in an expression."
      ],
      "metadata": {
        "id": "ZLjXdN1n54PN"
      }
    },
    {
      "cell_type": "markdown",
      "source": [
        "### **8. If a function does not have a return statement, what is the return value of a call to that function?**"
      ],
      "metadata": {
        "id": "Kg_MsaUZ2b5a"
      }
    },
    {
      "cell_type": "markdown",
      "source": [
        "* If no return statement appears in a function definition, the return value of the called function is undefined."
      ],
      "metadata": {
        "id": "9cqrnj1n7I4K"
      }
    },
    {
      "cell_type": "markdown",
      "source": [
        "### **9. How do you make a function variable refer to the global variable?**"
      ],
      "metadata": {
        "id": "_pBz7JKX2iZe"
      }
    },
    {
      "cell_type": "markdown",
      "source": [
        "* To create a global variable inside a function, the global keyword is used."
      ],
      "metadata": {
        "id": "8KD-WKas7a6t"
      }
    },
    {
      "cell_type": "markdown",
      "source": [
        "### **10. What is the data type of None?**"
      ],
      "metadata": {
        "id": "204HcdFM2juJ"
      }
    },
    {
      "cell_type": "markdown",
      "source": [
        "* None is a data type of its own (NoneType) and only None can be None."
      ],
      "metadata": {
        "id": "zja3Yz4c7xPG"
      }
    },
    {
      "cell_type": "code",
      "source": [
        "type(None)"
      ],
      "metadata": {
        "colab": {
          "base_uri": "https://localhost:8080/"
        },
        "id": "6JYYEZNR7x5Z",
        "outputId": "bfc58c7b-96e5-4a97-a064-eee0ae3f59ac"
      },
      "execution_count": 1,
      "outputs": [
        {
          "output_type": "execute_result",
          "data": {
            "text/plain": [
              "NoneType"
            ]
          },
          "metadata": {},
          "execution_count": 1
        }
      ]
    },
    {
      "cell_type": "markdown",
      "source": [
        "### **11. What does the sentence import areallyourpetsnamederic do?**"
      ],
      "metadata": {
        "id": "GYNjE_N42lPP"
      }
    },
    {
      "cell_type": "markdown",
      "source": [
        "* The import statement imports a module named areallyourpetsnamederic."
      ],
      "metadata": {
        "id": "vZ7m-_588EhK"
      }
    },
    {
      "cell_type": "markdown",
      "source": [
        "### **12. If you had a bacon() feature in a spam module, what would you call it after importing spam?**"
      ],
      "metadata": {
        "id": "oqJsIG-o2qfz"
      }
    },
    {
      "cell_type": "markdown",
      "source": [
        "* After importing spam module, we can access bacon() feature using spam.bacon()\n",
        "\n",
        "```python\n",
        " import spam\n",
        " spam.bacon()\n",
        "```\n",
        "\n"
      ],
      "metadata": {
        "id": "8cl_if7-9jZE"
      }
    },
    {
      "cell_type": "markdown",
      "source": [
        "### **13. What can you do to save a programme from crashing if it encounters an error?**"
      ],
      "metadata": {
        "id": "O2N8CoKi2rrJ"
      }
    },
    {
      "cell_type": "markdown",
      "source": [
        "* Try and except statements are used to handle errors without the program crashing."
      ],
      "metadata": {
        "id": "o94Rzzt_-B4k"
      }
    },
    {
      "cell_type": "markdown",
      "source": [
        "### **14. What is the purpose of the try clause? What is the purpose of the except clause?**"
      ],
      "metadata": {
        "id": "WhQxRwqI2s9D"
      }
    },
    {
      "cell_type": "markdown",
      "source": [
        "* The try block lets you test a block of code for errors.\n",
        "* The except block lets you handle the error."
      ],
      "metadata": {
        "id": "h3aiz8PN-OiZ"
      }
    }
  ]
}