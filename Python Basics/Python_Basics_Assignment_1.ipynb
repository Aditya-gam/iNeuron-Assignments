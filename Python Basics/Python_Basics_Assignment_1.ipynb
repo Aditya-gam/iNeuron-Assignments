{
  "nbformat": 4,
  "nbformat_minor": 0,
  "metadata": {
    "colab": {
      "provenance": [],
      "collapsed_sections": []
    },
    "kernelspec": {
      "name": "python3",
      "display_name": "Python 3"
    },
    "language_info": {
      "name": "python"
    }
  },
  "cells": [
    {
      "cell_type": "markdown",
      "source": [
        "#### **1. In the below elements which of them are values or an expression? e.g.: - values can be integer or string and expressions will be mathematical operators.**"
      ],
      "metadata": {
        "id": "P8Oo1evD3szI"
      }
    },
    {
      "cell_type": "markdown",
      "source": [
        "1. *: Expression\n",
        "2. 'hello': Values\n",
        "3. -87.8: Values\n",
        "4. -: Expression\n",
        "5. /: Expression\n",
        "6. +: Expression\n",
        "7. 6: Values\n"
      ],
      "metadata": {
        "id": "ijzI7Y8T4XY2"
      }
    },
    {
      "cell_type": "markdown",
      "source": [
        "#### **2. What is the difference between string and variable?**"
      ],
      "metadata": {
        "id": "t4vK__BF4zCm"
      }
    },
    {
      "cell_type": "markdown",
      "source": [
        "Variables are symbols that are used to store data in a program. You can think of them as an empty box that you fill with some data or value. Strings are data, so we can use them to fill up a variable."
      ],
      "metadata": {
        "id": "1rVNNU0749Ex"
      }
    },
    {
      "cell_type": "markdown",
      "source": [
        "#### **3. Describe three different data types.**"
      ],
      "metadata": {
        "id": "qisVMWON4_2w"
      }
    },
    {
      "cell_type": "markdown",
      "source": [
        "1.\tString: Consists of text. Anything placed between “” or ‘’ is string data type. Every element can be accessed in sequence from 0.\n",
        "2.\tNumeric: Integers and decimals are included in this (int and float).\n",
        "3.\tBoolean: Consists of true and false values.\n"
      ],
      "metadata": {
        "id": "JKuBVZcB5Gun"
      }
    },
    {
      "cell_type": "markdown",
      "source": [
        "#### **4. What is an expression made up of? What do all expressions do?**"
      ],
      "metadata": {
        "id": "UYnE5bww5LXe"
      }
    },
    {
      "cell_type": "markdown",
      "source": [
        "* An expression is a combination of operators and operands that is used to  produce some other value. In any programming language, an expression is evaluated as per the precedence of its operators.\n",
        "* Every expressions evaluates to give a value. For Eg: '1+3' is an expression which evaluates to a value. Some other expressions are '1 * 2 * 3', '5/2', '6 + 7 * 3', etc while 'a = 1 + 3' is not an expression.\n"
      ],
      "metadata": {
        "id": "8WibU5vc5PXs"
      }
    },
    {
      "cell_type": "markdown",
      "source": [
        "#### **5. This assignment statements, like spam = 10. What is the difference between an expression and a statement?**"
      ],
      "metadata": {
        "id": "rE7hEW6Q5VB6"
      }
    },
    {
      "cell_type": "markdown",
      "source": [
        "\n",
        "\n",
        "* Expression is a combination of values and operators that evaluate or represent a value. Eg: '1+3', '1-5+7*5'\n",
        "* A statement is an instruction that a Python interpreter can execute.Eg: 'spam=10', 'a=1+3', 'print(a)' are statements \n",
        "\n"
      ],
      "metadata": {
        "id": "esO0h7NZAEsz"
      }
    },
    {
      "cell_type": "markdown",
      "source": [
        "####**6. After running the following code, what does the variable bacon contain?**\n",
        "####**bacon = 22**\n",
        "####**bacon + 1**"
      ],
      "metadata": {
        "id": "jPnhiYUX5Y8M"
      }
    },
    {
      "cell_type": "markdown",
      "source": [
        "Ans: 22"
      ],
      "metadata": {
        "id": "NvYD7OhtBU9f"
      }
    },
    {
      "cell_type": "code",
      "source": [
        "bacon = 22\n",
        "bacon + 1\n",
        "bacon"
      ],
      "metadata": {
        "colab": {
          "base_uri": "https://localhost:8080/"
        },
        "id": "9wjZoWQfA-Ae",
        "outputId": "7fb518c4-1ef6-409a-9ee2-6dbd24e1eb93"
      },
      "execution_count": 2,
      "outputs": [
        {
          "output_type": "execute_result",
          "data": {
            "text/plain": [
              "22"
            ]
          },
          "metadata": {},
          "execution_count": 2
        }
      ]
    },
    {
      "cell_type": "markdown",
      "source": [
        "#### **7. What should the values of the following two terms be?**\n",
        "####**'spam' + 'spamspam'**\n",
        "####**'spam' * 3**"
      ],
      "metadata": {
        "id": "Jxo-sAn95ugI"
      }
    },
    {
      "cell_type": "markdown",
      "source": [
        "Ans: \n",
        "1. 'spamspamspam'\n",
        "2. 'spamspamspam'"
      ],
      "metadata": {
        "id": "nnGjGszlBe95"
      }
    },
    {
      "cell_type": "code",
      "source": [
        "'spam' + 'spamspam'"
      ],
      "metadata": {
        "colab": {
          "base_uri": "https://localhost:8080/",
          "height": 36
        },
        "id": "AMdsm7tqBZV1",
        "outputId": "3dddb79d-9ce8-4fff-b04a-41177f3e0e81"
      },
      "execution_count": 3,
      "outputs": [
        {
          "output_type": "execute_result",
          "data": {
            "text/plain": [
              "'spamspamspam'"
            ],
            "application/vnd.google.colaboratory.intrinsic+json": {
              "type": "string"
            }
          },
          "metadata": {},
          "execution_count": 3
        }
      ]
    },
    {
      "cell_type": "code",
      "source": [
        "'spam' * 3"
      ],
      "metadata": {
        "colab": {
          "base_uri": "https://localhost:8080/",
          "height": 36
        },
        "id": "VpW9DPbvBcJB",
        "outputId": "577af568-9daf-420a-f099-34334c8d5006"
      },
      "execution_count": 4,
      "outputs": [
        {
          "output_type": "execute_result",
          "data": {
            "text/plain": [
              "'spamspamspam'"
            ],
            "application/vnd.google.colaboratory.intrinsic+json": {
              "type": "string"
            }
          },
          "metadata": {},
          "execution_count": 4
        }
      ]
    },
    {
      "cell_type": "markdown",
      "source": [
        "#### **8. Why is eggs a valid variable name while 100 is invalid?**"
      ],
      "metadata": {
        "id": "HNwTdq2t57T2"
      }
    },
    {
      "cell_type": "markdown",
      "source": [
        "Variables can only begin with capital or small alphabets and not numbers."
      ],
      "metadata": {
        "id": "vHWo2ylOBxyL"
      }
    },
    {
      "cell_type": "markdown",
      "source": [
        "#### **9. What three functions can be used to get the integer, floating-point number, or string version of a value?**"
      ],
      "metadata": {
        "id": "X2EEAnlf6KOA"
      }
    },
    {
      "cell_type": "markdown",
      "source": [
        "The int() , float() , and str( ) functions can be used to get the integer, floating-point number, and string versions of the value passed to them."
      ],
      "metadata": {
        "id": "XHLhq7f7CFCv"
      }
    },
    {
      "cell_type": "markdown",
      "source": [
        "#### **10. Why does this expression cause an error? How can you fix it?**\n",
        "####**'I have eaten ' + 99 + ' burritos.'**"
      ],
      "metadata": {
        "id": "Zosf1W1V6MXv"
      }
    },
    {
      "cell_type": "markdown",
      "source": [
        "Here 99 is an integer while the other two are strings and integer and string cannot be concatenated. So 99 has to be converted to a string using str() function."
      ],
      "metadata": {
        "id": "AqBecOW5CNP1"
      }
    },
    {
      "cell_type": "code",
      "source": [
        "'I have eaten ' + str(99) + ' burritos.'"
      ],
      "metadata": {
        "colab": {
          "base_uri": "https://localhost:8080/",
          "height": 36
        },
        "id": "WGBwDPVh5YkZ",
        "outputId": "4a7535e1-0d01-4b99-dbe3-560ea3ba5e31"
      },
      "execution_count": 6,
      "outputs": [
        {
          "output_type": "execute_result",
          "data": {
            "text/plain": [
              "'I have eaten 99 burritos.'"
            ],
            "application/vnd.google.colaboratory.intrinsic+json": {
              "type": "string"
            }
          },
          "metadata": {},
          "execution_count": 6
        }
      ]
    },
    {
      "cell_type": "code",
      "source": [],
      "metadata": {
        "id": "UZZy6YafCjky"
      },
      "execution_count": null,
      "outputs": []
    }
  ]
}