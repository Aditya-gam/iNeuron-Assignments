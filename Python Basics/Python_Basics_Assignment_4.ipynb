{
  "nbformat": 4,
  "nbformat_minor": 0,
  "metadata": {
    "colab": {
      "provenance": []
    },
    "kernelspec": {
      "name": "python3",
      "display_name": "Python 3"
    },
    "language_info": {
      "name": "python"
    }
  },
  "cells": [
    {
      "cell_type": "markdown",
      "source": [
        "### **1. What exactly is []?**"
      ],
      "metadata": {
        "id": "_7OkRx6y_NDF"
      }
    },
    {
      "cell_type": "markdown",
      "source": [
        "* They are called index brackets.\n",
        "* They are used to defined list literals in python."
      ],
      "metadata": {
        "id": "wt50y5scBOk5"
      }
    },
    {
      "cell_type": "markdown",
      "source": [
        "### **2. In a list of values stored in a variable called spam, how would you assign the value 'hello' as the third value? (Assume [2, 4, 6, 8, 10] are in spam.)**\n"
      ],
      "metadata": {
        "id": "ur38ggXF_QAH"
      }
    },
    {
      "cell_type": "code",
      "source": [
        "spam = [2, 4, 6, 8, 10]\n",
        "spam[2] = 'hello'\n",
        "spam"
      ],
      "metadata": {
        "colab": {
          "base_uri": "https://localhost:8080/"
        },
        "id": "yQGR3ZGfBZ6J",
        "outputId": "5d290fb6-8c8b-4fcb-f4a4-a020e5c5bf64"
      },
      "execution_count": 1,
      "outputs": [
        {
          "output_type": "execute_result",
          "data": {
            "text/plain": [
              "[2, 4, 'hello', 8, 10]"
            ]
          },
          "metadata": {},
          "execution_count": 1
        }
      ]
    },
    {
      "cell_type": "markdown",
      "source": [
        "### **Let's pretend the spam includes the list ['a', 'b', 'c', 'd'] for the next three queries.**"
      ],
      "metadata": {
        "id": "5wjdutEp_U7k"
      }
    },
    {
      "cell_type": "code",
      "source": [
        "spam = ['a', 'b', 'c', 'd']"
      ],
      "metadata": {
        "id": "6T08uJ5vBsDY"
      },
      "execution_count": 2,
      "outputs": []
    },
    {
      "cell_type": "markdown",
      "source": [
        "### **3. What is the value of spam[int(int('3' * 2) / 11)]?**"
      ],
      "metadata": {
        "id": "8QMjG_TT_iwX"
      }
    },
    {
      "cell_type": "markdown",
      "source": [
        "* The value output will be 'd'.\n",
        "\n"
      ],
      "metadata": {
        "id": "ewsjBdaJBzrO"
      }
    },
    {
      "cell_type": "code",
      "source": [
        "spam[int(int('3' * 2) / 11)]"
      ],
      "metadata": {
        "colab": {
          "base_uri": "https://localhost:8080/",
          "height": 36
        },
        "id": "3bQUAza_Bu_e",
        "outputId": "ebe84b2c-29d6-4f47-f074-bd3cef0ea35b"
      },
      "execution_count": 4,
      "outputs": [
        {
          "output_type": "execute_result",
          "data": {
            "text/plain": [
              "'d'"
            ],
            "application/vnd.google.colaboratory.intrinsic+json": {
              "type": "string"
            }
          },
          "metadata": {},
          "execution_count": 4
        }
      ]
    },
    {
      "cell_type": "markdown",
      "source": [
        "### **4. What is the value of spam[-1]?**"
      ],
      "metadata": {
        "id": "cpdHmaek_vu3"
      }
    },
    {
      "cell_type": "markdown",
      "source": [
        "* The value output will be 'd'."
      ],
      "metadata": {
        "id": "tMzbG2TAB-Aa"
      }
    },
    {
      "cell_type": "code",
      "source": [
        "spam[-1]"
      ],
      "metadata": {
        "colab": {
          "base_uri": "https://localhost:8080/",
          "height": 36
        },
        "id": "bpugEE29B_SP",
        "outputId": "25815fd8-1d50-4e22-fbb8-a0bcf5ccd0c2"
      },
      "execution_count": 5,
      "outputs": [
        {
          "output_type": "execute_result",
          "data": {
            "text/plain": [
              "'d'"
            ],
            "application/vnd.google.colaboratory.intrinsic+json": {
              "type": "string"
            }
          },
          "metadata": {},
          "execution_count": 5
        }
      ]
    },
    {
      "cell_type": "markdown",
      "source": [
        "### **5. What is the value of spam[:2]?**"
      ],
      "metadata": {
        "id": "EqdjCcuV_yg9"
      }
    },
    {
      "cell_type": "markdown",
      "source": [
        "* The value output will be ['a', 'b']."
      ],
      "metadata": {
        "id": "vukx1dIYCCid"
      }
    },
    {
      "cell_type": "code",
      "source": [
        "spam[:2]"
      ],
      "metadata": {
        "colab": {
          "base_uri": "https://localhost:8080/"
        },
        "id": "vt0L7ke8CFin",
        "outputId": "8f7e1eff-a04f-42c4-8307-2afeed621a7b"
      },
      "execution_count": 6,
      "outputs": [
        {
          "output_type": "execute_result",
          "data": {
            "text/plain": [
              "['a', 'b']"
            ]
          },
          "metadata": {},
          "execution_count": 6
        }
      ]
    },
    {
      "cell_type": "markdown",
      "source": [
        "### **Let's pretend bacon has the list [3.14, 'cat,' 11, 'cat,' True] for the next three questions.**"
      ],
      "metadata": {
        "id": "IkzRfVwZ_0-q"
      }
    },
    {
      "cell_type": "code",
      "source": [
        "bacon = [3.14, 'cat', 11, 'cat', True]"
      ],
      "metadata": {
        "id": "3FQF_kZFFh-v"
      },
      "execution_count": 9,
      "outputs": []
    },
    {
      "cell_type": "markdown",
      "source": [
        "### **6. What is the value of bacon.index('cat')?**"
      ],
      "metadata": {
        "id": "nFzG5h_9ASWl"
      }
    },
    {
      "cell_type": "markdown",
      "source": [
        "* Value is 1."
      ],
      "metadata": {
        "id": "JNihCousF6Ht"
      }
    },
    {
      "cell_type": "code",
      "source": [
        "bacon.index('cat')"
      ],
      "metadata": {
        "colab": {
          "base_uri": "https://localhost:8080/"
        },
        "id": "iZeOLnojF4G0",
        "outputId": "2d6e5187-891e-4b11-f670-83933bd8d91c"
      },
      "execution_count": 10,
      "outputs": [
        {
          "output_type": "execute_result",
          "data": {
            "text/plain": [
              "1"
            ]
          },
          "metadata": {},
          "execution_count": 10
        }
      ]
    },
    {
      "cell_type": "markdown",
      "source": [
        "### **7. How does bacon.append(99) change the look of the list value in bacon?**"
      ],
      "metadata": {
        "id": "DBMsUbz2AV8a"
      }
    },
    {
      "cell_type": "markdown",
      "source": [
        "* It appends integer 99 to the end of the list."
      ],
      "metadata": {
        "id": "5Jmo7TZkGFOR"
      }
    },
    {
      "cell_type": "code",
      "source": [
        "bacon.append(99)\n",
        "bacon"
      ],
      "metadata": {
        "colab": {
          "base_uri": "https://localhost:8080/"
        },
        "id": "Vhx1nRMMGAzU",
        "outputId": "bb880388-e6af-4157-ca98-7d1679a47d23"
      },
      "execution_count": 11,
      "outputs": [
        {
          "output_type": "execute_result",
          "data": {
            "text/plain": [
              "[3.14, 'cat', 11, 'cat', True, 99]"
            ]
          },
          "metadata": {},
          "execution_count": 11
        }
      ]
    },
    {
      "cell_type": "markdown",
      "source": [
        "### **8. How does bacon.remove('cat') change the look of the list in bacon?**"
      ],
      "metadata": {
        "id": "vqfh7MzsAZi0"
      }
    },
    {
      "cell_type": "markdown",
      "source": [
        "* It removes the first occurance of 'cat' from the list"
      ],
      "metadata": {
        "id": "IYbpYhdWGUqR"
      }
    },
    {
      "cell_type": "code",
      "source": [
        "bacon.remove('cat')\n",
        "bacon"
      ],
      "metadata": {
        "colab": {
          "base_uri": "https://localhost:8080/"
        },
        "id": "PKBQmSQ8GP8h",
        "outputId": "ba0695ee-d51f-4c37-935f-5737f4a1a3cd"
      },
      "execution_count": 12,
      "outputs": [
        {
          "output_type": "execute_result",
          "data": {
            "text/plain": [
              "[3.14, 11, 'cat', True, 99]"
            ]
          },
          "metadata": {},
          "execution_count": 12
        }
      ]
    },
    {
      "cell_type": "markdown",
      "source": [
        "### **9. What are the list concatenation and list replication operators?**"
      ],
      "metadata": {
        "id": "ghRE0b-LAbdb"
      }
    },
    {
      "cell_type": "markdown",
      "source": [
        "* The operator for list concatenation is +, while the operator for replication is *."
      ],
      "metadata": {
        "id": "UX3c3swaGiAk"
      }
    },
    {
      "cell_type": "markdown",
      "source": [
        "### **10. What is difference between the list methods append() and insert()?**"
      ],
      "metadata": {
        "id": "vLYcuf_dAdj1"
      }
    },
    {
      "cell_type": "markdown",
      "source": [
        "* Insert function allows us to add a specific element at a specified index of the list unlike append() where we can add the element only at end of the list."
      ],
      "metadata": {
        "id": "83XosONhHJ7n"
      }
    },
    {
      "cell_type": "markdown",
      "source": [
        "### **11. What are the two methods for removing items from a list?**"
      ],
      "metadata": {
        "id": "LzY981AOAfr2"
      }
    },
    {
      "cell_type": "markdown",
      "source": [
        "* The methods are remove(), pop().\n",
        "* remove() deletes the first occurance of the value passed.\n",
        "* pop() deletes the value from element location provided."
      ],
      "metadata": {
        "id": "JhbfFcntH2kF"
      }
    },
    {
      "cell_type": "markdown",
      "source": [
        "### **12. Describe how list values and string values are identical.**"
      ],
      "metadata": {
        "id": "-6PIqTtCAmOc"
      }
    },
    {
      "cell_type": "markdown",
      "source": [
        "* The similarity between Lists and Strings in Python is that both are sequences."
      ],
      "metadata": {
        "id": "88EjnxQ2JDCi"
      }
    },
    {
      "cell_type": "markdown",
      "source": [
        "### **13. What's the difference between tuples and lists?**"
      ],
      "metadata": {
        "id": "D7fUQzFpAqZW"
      }
    },
    {
      "cell_type": "markdown",
      "source": [
        "* The list is dynamic, whereas the tuple has static characteristics. \n",
        "* This means that lists can be modified whereas tuples cannot be modified. \n",
        "* The tuple is faster than the list because of static in nature. \n",
        "* Lists are denoted by the square brackets but tuples are denoted as parenthesis."
      ],
      "metadata": {
        "id": "Wk9j-l46JOQo"
      }
    },
    {
      "cell_type": "markdown",
      "source": [
        "### **14. How do you type a tuple value that only contains the integer 42?**"
      ],
      "metadata": {
        "id": "Tmk55ucSAuHC"
      }
    },
    {
      "cell_type": "code",
      "source": [
        "t = (42,)\n",
        "t"
      ],
      "metadata": {
        "colab": {
          "base_uri": "https://localhost:8080/"
        },
        "id": "mjRxj6VMJjcz",
        "outputId": "e8f5d103-b570-4824-b809-7db8f8e3c376"
      },
      "execution_count": 14,
      "outputs": [
        {
          "output_type": "execute_result",
          "data": {
            "text/plain": [
              "(42,)"
            ]
          },
          "metadata": {},
          "execution_count": 14
        }
      ]
    },
    {
      "cell_type": "markdown",
      "source": [
        "### **15. How do you get a list value's tuple form? How do you get a tuple value's list form?**"
      ],
      "metadata": {
        "id": "-yIIUohAA7o2"
      }
    },
    {
      "cell_type": "markdown",
      "source": [
        "* To get list value's tuple form,\n",
        "  - we can use inbuilt function tuple().\n",
        "\n",
        "```python\n",
        "list1 = [1, 2, 3, 4]\n",
        "tup = tuple(list1)\n",
        "```\n",
        "\n",
        "  - We can use loop to iterate through every element.\n",
        "\n",
        "```python\n",
        "tup = tuple(i for i in list1)\n",
        "```\n",
        "  - We can unpack the list items and from a tuple.\n",
        "\n",
        "```python\n",
        "tup = (*list1,)\n",
        "```\n",
        "* To get tuple value's list from,\n",
        "  - We can use the list() method.\n",
        "\n",
        "```python\n",
        "tup = (1, 2, 3, 4)\n",
        "list1 = list(tup)\n",
        "```\n",
        "\n",
        "\n",
        "\n",
        "\n",
        "\n",
        "\n"
      ],
      "metadata": {
        "id": "C5L8PaTQKz9n"
      }
    },
    {
      "cell_type": "markdown",
      "source": [
        "### **16. Variables that \"contain\" list values are not necessarily lists themselves. Instead, what do they contain?**"
      ],
      "metadata": {
        "id": "tTqkV4kVA_i0"
      }
    },
    {
      "cell_type": "markdown",
      "source": [
        "* Variables will contain references to list values rather than list values themselves."
      ],
      "metadata": {
        "id": "2jxpaT4kMbgf"
      }
    },
    {
      "cell_type": "markdown",
      "source": [
        "### **17. How do you distinguish between copy.copy() and copy.deepcopy()?**"
      ],
      "metadata": {
        "id": "4yuzaX0bBCNA"
      }
    },
    {
      "cell_type": "markdown",
      "source": [
        "* copy.copy() create reference to original object. If we change copied object - we change the original object. \n",
        "* copy.deepcopy() creates new object and does real copying of original object to new one. \n",
        "* Changing new deepcopied object doesn't affect original object."
      ],
      "metadata": {
        "id": "vU_ZLtz5Mkkm"
      }
    }
  ]
}