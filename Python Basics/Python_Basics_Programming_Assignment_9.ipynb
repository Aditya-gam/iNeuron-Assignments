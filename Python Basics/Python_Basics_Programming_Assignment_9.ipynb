{
  "nbformat": 4,
  "nbformat_minor": 0,
  "metadata": {
    "colab": {
      "provenance": []
    },
    "kernelspec": {
      "name": "python3",
      "display_name": "Python 3"
    },
    "language_info": {
      "name": "python"
    }
  },
  "cells": [
    {
      "cell_type": "markdown",
      "source": [
        "### **1. Write a Python program to check if the given number is a Disarium Number?**"
      ],
      "metadata": {
        "id": "hFWuIs8zelLU"
      }
    },
    {
      "cell_type": "code",
      "source": [
        "def isDisarium(num):\n",
        "  l = len(num)\n",
        "  num1 = int(num)\n",
        "  sum = 0\n",
        "  for i in range(1, l+1):\n",
        "    sum += (int(num[i-1]) ** i)\n",
        "  \n",
        "  return num1 == sum\n",
        "\n",
        "if __name__ == \"__main__\":\n",
        "  num = input(\"Enter a number: \")\n",
        "\n",
        "  if isDisarium(num):\n",
        "    print(f\"{num} is a Disarium Number\")\n",
        "  else:\n",
        "    print(f\"{num} is not a Disarium Number\")\n"
      ],
      "metadata": {
        "colab": {
          "base_uri": "https://localhost:8080/"
        },
        "id": "Gae1NUz0VuG6",
        "outputId": "49c0ce7a-e5df-4bed-884c-84ba6f28d57b"
      },
      "execution_count": 5,
      "outputs": [
        {
          "output_type": "stream",
          "name": "stdout",
          "text": [
            "Enter a number: 135\n",
            "135 is a Disarium Number\n"
          ]
        }
      ]
    },
    {
      "cell_type": "markdown",
      "source": [
        "### **2. Write a Python program to print all disarium numbers between 1 to 100?**"
      ],
      "metadata": {
        "id": "Vt-mrNicennV"
      }
    },
    {
      "cell_type": "code",
      "source": [
        "def isDisarium(num):\n",
        "  l = len(num)\n",
        "  num1 = int(num)\n",
        "  sum = 0\n",
        "  for i in range(1, l+1):\n",
        "    sum += (int(num[i-1]) ** i)\n",
        "  \n",
        "  return num1 == sum\n",
        "\n",
        "if __name__ == \"__main__\":\n",
        "  print(\"Disarium Numbers between 1 to 100: \")\n",
        "  for num in range(1, 100):\n",
        "    if isDisarium(str(num)):\n",
        "      print(num)"
      ],
      "metadata": {
        "colab": {
          "base_uri": "https://localhost:8080/"
        },
        "id": "9sKbWdnAYRtZ",
        "outputId": "65678b66-c82f-44e2-b550-f06458c0378c"
      },
      "execution_count": 11,
      "outputs": [
        {
          "output_type": "stream",
          "name": "stdout",
          "text": [
            "Disarium Numbers between 1 to 100: \n",
            "1\n",
            "2\n",
            "3\n",
            "4\n",
            "5\n",
            "6\n",
            "7\n",
            "8\n",
            "9\n",
            "89\n"
          ]
        }
      ]
    },
    {
      "cell_type": "markdown",
      "source": [
        "### **3. Write a Python program to check if the given number is Happy Number?**"
      ],
      "metadata": {
        "id": "dvKvCbU6eqQa"
      }
    },
    {
      "cell_type": "code",
      "source": [
        "def isHappyNumber(num):\n",
        "  if num == 1 or num == 2:\n",
        "    return True\n",
        "\n",
        "  sum, x = num, num\n",
        "  \n",
        "  while sum > 9:\n",
        "    sum = 0\n",
        "\n",
        "    while x > 0:\n",
        "      d = x % 10\n",
        "      sum += d * d\n",
        "      x = int(x / 10)\n",
        "\n",
        "    if sum == 1:\n",
        "      return True \n",
        "    x = sum\n",
        "  if sum == 7:\n",
        "    return True\n",
        "  \n",
        "  return False\n",
        "\n",
        "if __name__ == \"__main__\":\n",
        "  num = int(input(\"Enter a number: \"))\n",
        "  result = num\n",
        "  \n",
        "  if isHappyNumber(num):\n",
        "    print(f\"{num} is a Happy Number.\")\n",
        "  else:\n",
        "    print(f\"{num} is an Unhappy Number.\")"
      ],
      "metadata": {
        "colab": {
          "base_uri": "https://localhost:8080/"
        },
        "id": "sCibVtyMfft-",
        "outputId": "e3b01476-03f4-461e-9cd7-47b6b50a08e6"
      },
      "execution_count": 16,
      "outputs": [
        {
          "output_type": "stream",
          "name": "stdout",
          "text": [
            "Enter a number: 23\n",
            "23 is a Happy Number.\n"
          ]
        }
      ]
    },
    {
      "cell_type": "markdown",
      "source": [
        "### **4. Write a Python program to print all happy numbers between 1 and 100?**"
      ],
      "metadata": {
        "id": "0QyxFzhvesrG"
      }
    },
    {
      "cell_type": "code",
      "source": [
        "def isHappyNumber(num):\n",
        "  if num == 1 or num == 2:\n",
        "    return True\n",
        "\n",
        "  sum, x = num, num\n",
        "  \n",
        "  while sum > 9:\n",
        "    sum = 0\n",
        "\n",
        "    while x > 0:\n",
        "      d = x % 10\n",
        "      sum += d * d\n",
        "      x = int(x / 10)\n",
        "\n",
        "    if sum == 1:\n",
        "      return True \n",
        "    x = sum\n",
        "  if sum == 7:\n",
        "    return True\n",
        "  \n",
        "  return False\n",
        "\n",
        "if __name__ == \"__main__\":\n",
        "  for num in range (1, 100):\n",
        "    if isHappyNumber(num):\n",
        "      print(num)\n"
      ],
      "metadata": {
        "colab": {
          "base_uri": "https://localhost:8080/"
        },
        "id": "H8ZCHZJfSjrm",
        "outputId": "7aa47f40-4e19-4e50-fd33-2e835e23a53f"
      },
      "execution_count": 17,
      "outputs": [
        {
          "output_type": "stream",
          "name": "stdout",
          "text": [
            "1\n",
            "2\n",
            "7\n",
            "10\n",
            "13\n",
            "19\n",
            "23\n",
            "28\n",
            "31\n",
            "32\n",
            "44\n",
            "49\n",
            "68\n",
            "70\n",
            "79\n",
            "82\n",
            "86\n",
            "91\n",
            "94\n",
            "97\n"
          ]
        }
      ]
    },
    {
      "cell_type": "markdown",
      "source": [
        "### **5. Write a Python program to determine whether the given number is a Harshad Number?**"
      ],
      "metadata": {
        "id": "Q-Di79GKevFn"
      }
    },
    {
      "cell_type": "code",
      "source": [
        "def isHarshad(num):\n",
        "  sum, temp = 0, num\n",
        "\n",
        "  while temp != 0:\n",
        "    d = temp % 10\n",
        "    sum += d\n",
        "    temp = temp // 10\n",
        "\n",
        "  return num % sum == 0\n",
        "\n",
        "if __name__ == \"__main__\":\n",
        "  num = int(input(\"Enter a number: \"))\n",
        "\n",
        "  if isHarshad(num):\n",
        "    print(f\"{num} is a Harshad Number.\")\n",
        "  else:\n",
        "    print(f\"{num} is not a Harshad Number.\")"
      ],
      "metadata": {
        "colab": {
          "base_uri": "https://localhost:8080/"
        },
        "id": "DQOUkS7QTxST",
        "outputId": "f1dca4ff-e2b7-442e-ec78-73316a2cb613"
      },
      "execution_count": 19,
      "outputs": [
        {
          "output_type": "stream",
          "name": "stdout",
          "text": [
            "Enter a number: 54\n",
            "54 is a Harshad Number.\n"
          ]
        }
      ]
    },
    {
      "cell_type": "markdown",
      "source": [
        "### **6. Write a Python program to print all pronic numbers between 1 and 100?**"
      ],
      "metadata": {
        "id": "oufny9zKez4y"
      }
    },
    {
      "cell_type": "code",
      "source": [
        "def isHarshad(num):\n",
        "  sum, temp = 0, num\n",
        "\n",
        "  while temp != 0:\n",
        "    d = temp % 10\n",
        "    sum += d\n",
        "    temp = temp // 10\n",
        "\n",
        "  return num % sum == 0\n",
        "\n",
        "if __name__ == \"__main__\":\n",
        "  for num in range(1, 100):\n",
        "    if isHarshad(num):\n",
        "      print(num)"
      ],
      "metadata": {
        "colab": {
          "base_uri": "https://localhost:8080/"
        },
        "id": "tIx8znimU80L",
        "outputId": "3df2ce88-4428-41b1-976a-8e3017b55258"
      },
      "execution_count": 20,
      "outputs": [
        {
          "output_type": "stream",
          "name": "stdout",
          "text": [
            "1\n",
            "2\n",
            "3\n",
            "4\n",
            "5\n",
            "6\n",
            "7\n",
            "8\n",
            "9\n",
            "10\n",
            "12\n",
            "18\n",
            "20\n",
            "21\n",
            "24\n",
            "27\n",
            "30\n",
            "36\n",
            "40\n",
            "42\n",
            "45\n",
            "48\n",
            "50\n",
            "54\n",
            "60\n",
            "63\n",
            "70\n",
            "72\n",
            "80\n",
            "81\n",
            "84\n",
            "90\n"
          ]
        }
      ]
    }
  ]
}