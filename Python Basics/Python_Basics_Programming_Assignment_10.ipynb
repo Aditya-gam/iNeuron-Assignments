{
  "nbformat": 4,
  "nbformat_minor": 0,
  "metadata": {
    "colab": {
      "provenance": []
    },
    "kernelspec": {
      "name": "python3",
      "display_name": "Python 3"
    },
    "language_info": {
      "name": "python"
    }
  },
  "cells": [
    {
      "cell_type": "markdown",
      "source": [
        "### **1. Write a Python program to find sum of elements in list?**"
      ],
      "metadata": {
        "id": "HJSJgiQ7Xhsj"
      }
    },
    {
      "cell_type": "code",
      "source": [
        "def listSum(lst):\n",
        "  sum = 0\n",
        "  for l in lst:\n",
        "    sum += l\n",
        "  return sum\n",
        "\n",
        "if __name__ == \"__main__\":\n",
        "  lst = []\n",
        "  s = int(input(\"Enter size of the list: \"))\n",
        "\n",
        "  for i in range(s):\n",
        "    lst.append(int(input(\"Enter a number: \")))\n",
        "\n",
        "  print(f\"Sum of list: {listSum(lst)}\")\n",
        "  print(f\"Sum of list: {sum(lst)}\")"
      ],
      "metadata": {
        "id": "EmrmajzOZuH6",
        "colab": {
          "base_uri": "https://localhost:8080/"
        },
        "outputId": "1afc2647-7c32-4fa7-ada7-6b2aa5a75987"
      },
      "execution_count": null,
      "outputs": [
        {
          "output_type": "stream",
          "name": "stdout",
          "text": [
            "Enter size of the list: 5\n",
            "Enter a number: 1\n",
            "Enter a number: 2\n",
            "Enter a number: 3\n",
            "Enter a number: 4\n",
            "Enter a number: 5\n",
            "Sum of list: 15\n",
            "Sum of list: 15\n"
          ]
        }
      ]
    },
    {
      "cell_type": "markdown",
      "source": [
        "### **2. Write a Python program to Multiply all numbers in the list?**"
      ],
      "metadata": {
        "id": "IVT4FFQcXi1M"
      }
    },
    {
      "cell_type": "code",
      "source": [
        "def listProduct(lst):\n",
        "  prod = 1\n",
        "  for l in lst:\n",
        "    prod *= l\n",
        "  return prod\n",
        "\n",
        "if __name__ == \"__main__\":\n",
        "  lst = []\n",
        "  s = int(input(\"Enter size of the list: \"))\n",
        "\n",
        "  for i in range(s):\n",
        "    lst.append(int(input(\"Enter a number: \")))\n",
        "\n",
        "  print(f\"Product of list: {listProduct(lst)}\")"
      ],
      "metadata": {
        "colab": {
          "base_uri": "https://localhost:8080/"
        },
        "id": "tMzbE_UvCXK7",
        "outputId": "8ec64cec-6505-4588-ed2d-a9c5f8cf9e8d"
      },
      "execution_count": null,
      "outputs": [
        {
          "output_type": "stream",
          "name": "stdout",
          "text": [
            "Enter size of the list: 5\n",
            "Enter a number: 1\n",
            "Enter a number: 2\n",
            "Enter a number: 3\n",
            "Enter a number: 4\n",
            "Enter a number: 5\n",
            "Product of list: 120\n"
          ]
        }
      ]
    },
    {
      "cell_type": "markdown",
      "source": [
        "### **3. Write a Python program to find smallest number in a list?**"
      ],
      "metadata": {
        "id": "dyAEptnyXlT-"
      }
    },
    {
      "cell_type": "code",
      "source": [
        "def listMin(lst):\n",
        "  min = lst[0]\n",
        "  for i in range (1, len(lst)):\n",
        "    if min > lst[i]:\n",
        "      min = lst[i]\n",
        "  return min\n",
        "\n",
        "if __name__ == \"__main__\":\n",
        "  lst = []\n",
        "  s = int(input(\"Enter size of the list: \"))\n",
        "\n",
        "  for i in range(s):\n",
        "    lst.append(int(input(\"Enter a number: \")))\n",
        "\n",
        "  print(f\"Smallest Number in list: {listMin(lst)}\")\n",
        "  print(f\"Smallest Number in list: {min(lst)}\")"
      ],
      "metadata": {
        "colab": {
          "base_uri": "https://localhost:8080/"
        },
        "id": "GUjrbLIkDONI",
        "outputId": "013e5bfa-dedd-4f97-d275-e94e0ffce5aa"
      },
      "execution_count": null,
      "outputs": [
        {
          "output_type": "stream",
          "name": "stdout",
          "text": [
            "Enter size of the list: 5\n",
            "Enter a number: 56473\n",
            "Enter a number: 123\n",
            "Enter a number: 623\n",
            "Enter a number: 13\n",
            "Enter a number: 64\n",
            "Smallest Number in list: 13\n",
            "Smallest Number in list: 13\n"
          ]
        }
      ]
    },
    {
      "cell_type": "markdown",
      "source": [
        "### **4. Write a Python program to find largest number in a list?**"
      ],
      "metadata": {
        "id": "D9gLW5szXnqI"
      }
    },
    {
      "cell_type": "code",
      "source": [
        "def listMax(lst):\n",
        "  max = lst[0]\n",
        "  for i in range (1, len(lst)):\n",
        "    if max < lst[i]:\n",
        "      max = lst[i]\n",
        "  return max\n",
        "\n",
        "if __name__ == \"__main__\":\n",
        "  lst = []\n",
        "  s = int(input(\"Enter size of the list: \"))\n",
        "\n",
        "  for i in range(s):\n",
        "    lst.append(int(input(\"Enter a number: \")))\n",
        "\n",
        "  print(f\"Largest Number in list: {listMax(lst)}\")\n",
        "  print(f\"Largest Number in list: {max(lst)}\")"
      ],
      "metadata": {
        "colab": {
          "base_uri": "https://localhost:8080/"
        },
        "id": "VtU6SCqfEPU9",
        "outputId": "3625b9d7-342d-48ed-e584-0d9aef4d4fce"
      },
      "execution_count": null,
      "outputs": [
        {
          "output_type": "stream",
          "name": "stdout",
          "text": [
            "Enter size of the list: 5\n",
            "Enter a number: 234\n",
            "Enter a number: 6345\n",
            "Enter a number: 4367\n",
            "Enter a number: 2456\n",
            "Enter a number: 8356\n",
            "Largest Number in list: 8356\n",
            "Largest Number in list: 8356\n"
          ]
        }
      ]
    },
    {
      "cell_type": "markdown",
      "source": [
        "### **5. Write a Python program to find second largest number in a list?**"
      ],
      "metadata": {
        "id": "GdrAorAtXs7E"
      }
    },
    {
      "cell_type": "code",
      "source": [
        "def secondLargest(lst):\n",
        "  secondLargest = min(lst[0], lst[1])\n",
        "  largest = max(lst[0], lst[1])\n",
        "\n",
        "  for i in range(2, len(lst)):\n",
        "    if lst[i] > largest:\n",
        "      secondLargest = largest\n",
        "      largest = lst[i]\n",
        "    else:\n",
        "      secondLargest = max(secondLargest, lst[i])\n",
        "    \n",
        "  return secondLargest\n",
        "\n",
        "if __name__ == \"__main__\":\n",
        "  lst = []\n",
        "  s = int(input(\"Enter size of the list: \"))\n",
        "\n",
        "  for i in range(s):\n",
        "    lst.append(int(input(\"Enter a number: \")))\n",
        "\n",
        "  print(f\"Second Largest Number in list: {secondLargest(lst)}\")\n",
        "  print(f\"Second Largest Number in list: {sorted(lst)[-2]}\")"
      ],
      "metadata": {
        "colab": {
          "base_uri": "https://localhost:8080/"
        },
        "id": "1ObRiJxn_rVx",
        "outputId": "c75a5877-67a5-404f-923b-bbaa24b00736"
      },
      "execution_count": null,
      "outputs": [
        {
          "output_type": "stream",
          "name": "stdout",
          "text": [
            "Enter size of the list: 5\n",
            "Enter a number: 1\n",
            "Enter a number: 2\n",
            "Enter a number: 3\n",
            "Enter a number: 4\n",
            "Enter a number: 5\n",
            "Second Largest Number in list: 4\n",
            "Second Largest Number in list: 4\n"
          ]
        }
      ]
    },
    {
      "cell_type": "markdown",
      "source": [
        "### **6. Write a Python program to find N largest elements from a list?**"
      ],
      "metadata": {
        "id": "1HSf6Z1lXvOe"
      }
    },
    {
      "cell_type": "code",
      "source": [
        "def nLargestElements(lst1, n):\n",
        "  final_list = []\n",
        "  \n",
        "  for i in range(n):\n",
        "    max1 = 0\n",
        "\n",
        "    for j in range(len(lst1)):\n",
        "      if lst1[j] > max1:\n",
        "        max1 = lst1[j]\n",
        "    \n",
        "    lst1.remove(max1)\n",
        "    final_list.append(max1)\n",
        "    final_list.sort()\n",
        "  return final_list\n",
        "\n",
        "if __name__ == \"__main__\":\n",
        "  lst = []\n",
        "  s = int(input(\"Enter size of the list: \"))\n",
        "\n",
        "  for i in range(s):\n",
        "    lst.append(int(input(\"Enter a number: \")))\n",
        "\n",
        "  n = int(input(\"Enter the value of N: \"))\n",
        "\n",
        "  lst.sort()\n",
        "\n",
        "  print(f\"N Largest Numbers in list: {lst[-n:]}\")\n",
        "  print(f\"N Largest Numbers in list: {nLargestElements(lst, n)}\")\n"
      ],
      "metadata": {
        "colab": {
          "base_uri": "https://localhost:8080/"
        },
        "id": "fig75czDDMfW",
        "outputId": "03e323d4-9d20-4b14-8fb2-7c5e1f719ad8"
      },
      "execution_count": null,
      "outputs": [
        {
          "output_type": "stream",
          "name": "stdout",
          "text": [
            "Enter size of the list: 7\n",
            "Enter a number: 435\n",
            "Enter a number: 654\n",
            "Enter a number: 876\n",
            "Enter a number: 234\n",
            "Enter a number: 267\n",
            "Enter a number: 765\n",
            "Enter a number: 2345\n",
            "Enter the value of N: 4\n",
            "N Largest Numbers in list: [654, 765, 876, 2345]\n",
            "N Largest Numbers in list: [654, 765, 876, 2345]\n"
          ]
        }
      ]
    },
    {
      "cell_type": "markdown",
      "source": [
        "### **7. Write a Python program to print even numbers in a list?**"
      ],
      "metadata": {
        "id": "wWYUC-vLXxtP"
      }
    },
    {
      "cell_type": "code",
      "source": [
        "def evenNumbers(arr):\n",
        "  final_list = []\n",
        "  for num in arr:\n",
        "    if num % 2 == 0:\n",
        "      final_list.append(num)\n",
        "  return final_list\n",
        "\n",
        "if __name__ == \"__main__\":\n",
        "  lst = []\n",
        "  s = int(input(\"Enter size of the list: \"))\n",
        "\n",
        "  for i in range(s):\n",
        "    lst.append(int(input(\"Enter a number: \")))\n",
        "\n",
        "  print(f\"Even Numbers in list: {evenNumbers(lst)}\")"
      ],
      "metadata": {
        "colab": {
          "base_uri": "https://localhost:8080/"
        },
        "id": "pBE-SHgaulaT",
        "outputId": "235bac00-4d99-4655-c15d-ce0afdff7d81"
      },
      "execution_count": 3,
      "outputs": [
        {
          "output_type": "stream",
          "name": "stdout",
          "text": [
            "Enter size of the list: 12\n",
            "Enter a number: 34\n",
            "Enter a number: 34145\n",
            "Enter a number: 265\n",
            "Enter a number: 542\n",
            "Enter a number: 1345\n",
            "Enter a number: 64256\n",
            "Enter a number: 5367245\n",
            "Enter a number: 754252\n",
            "Enter a number: 8746\n",
            "Enter a number: 56146\n",
            "Enter a number: 84165\n",
            "Enter a number: 345\n",
            "Even Numbers in list: [34, 542, 64256, 754252, 8746, 56146]\n"
          ]
        }
      ]
    },
    {
      "cell_type": "markdown",
      "source": [
        "### **8. Write a Python program to print odd numbers in a List?**"
      ],
      "metadata": {
        "id": "HlSuh0OuX1tf"
      }
    },
    {
      "cell_type": "code",
      "source": [
        "def oddNumbers(arr):\n",
        "  final_list = []\n",
        "  for num in arr:\n",
        "    if num % 2 != 0:\n",
        "      final_list.append(num)\n",
        "  return final_list\n",
        "\n",
        "if __name__ == \"__main__\":\n",
        "  lst = []\n",
        "  s = int(input(\"Enter size of the list: \"))\n",
        "\n",
        "  for i in range(s):\n",
        "    lst.append(int(input(\"Enter a number: \")))\n",
        "\n",
        "  print(f\"Odd Numbers in list: {oddNumbers(lst)}\")"
      ],
      "metadata": {
        "colab": {
          "base_uri": "https://localhost:8080/"
        },
        "id": "Yhn_ZCKww3OX",
        "outputId": "b4228fef-09ff-4208-cc9c-8326861d1ea9"
      },
      "execution_count": 4,
      "outputs": [
        {
          "output_type": "stream",
          "name": "stdout",
          "text": [
            "Enter size of the list: 7\n",
            "Enter a number: 342\n",
            "Enter a number: 345\n",
            "Enter a number: 634\n",
            "Enter a number: 234\n",
            "Enter a number: 5431\n",
            "Enter a number: 654\n",
            "Enter a number: 754\n",
            "Odd Numbers in list: [345, 5431]\n"
          ]
        }
      ]
    },
    {
      "cell_type": "markdown",
      "source": [
        "### **9. Write a Python program to Remove empty List from List?**"
      ],
      "metadata": {
        "id": "eGIXhQT4X3BE"
      }
    },
    {
      "cell_type": "code",
      "source": [
        "def removeEmptyList(arr):\n",
        "  newList = []\n",
        "  for i in arr:\n",
        "    if i:\n",
        "      newList.append(i)\n",
        "  \n",
        "  return newList\n",
        "\n",
        "if __name__ == \"__main__\":\n",
        "  list1 = [5, 6, [], 3, [], [], 9]\n",
        "  print(f\"The original list is : {list1}\")\n",
        "\n",
        "  print(f\"List after empty list removal : {removeEmptyList(list1)}\")"
      ],
      "metadata": {
        "colab": {
          "base_uri": "https://localhost:8080/"
        },
        "id": "Foov61kky-oy",
        "outputId": "39e3ac6f-83de-4e80-f295-e24b46e1f6c5"
      },
      "execution_count": 6,
      "outputs": [
        {
          "output_type": "stream",
          "name": "stdout",
          "text": [
            "The original list is : [5, 6, [], 3, [], [], 9]\n",
            "List after empty list removal : [5, 6, 3, 9]\n"
          ]
        }
      ]
    },
    {
      "cell_type": "markdown",
      "source": [
        "### **10. Write a Python program to Cloning or Copying a list?**"
      ],
      "metadata": {
        "id": "Rlm1W-OVX5aa"
      }
    },
    {
      "cell_type": "code",
      "source": [
        "def clone(arr):\n",
        "  arr2 = [i for i in arr]\n",
        "  return arr2\n",
        "\n",
        "if __name__ == \"__main__\":\n",
        "  lst = []\n",
        "  s = int(input(\"Enter size of the list: \"))\n",
        "\n",
        "  for i in range(s):\n",
        "    lst.append(int(input(\"Enter a number: \")))\n",
        "\n",
        "  arr1 = clone(lst)\n",
        "  arr2 = lst[:]\n",
        "  arr3 = []\n",
        "  arr3.extend(lst)\n",
        "  print(f\"Original List: {lst}\")\n",
        "  print(f\"Copied list List: {arr1}\")\n",
        "  print(f\"Copied list List: {arr2}\")\n",
        "  print(f\"Copied list List: {arr3}\")"
      ],
      "metadata": {
        "colab": {
          "base_uri": "https://localhost:8080/"
        },
        "id": "UXFL9CJBFoib",
        "outputId": "1661fe30-7552-40ee-ca0c-84f86f3dfd11"
      },
      "execution_count": 10,
      "outputs": [
        {
          "output_type": "stream",
          "name": "stdout",
          "text": [
            "Enter size of the list: 5\n",
            "Enter a number: 1\n",
            "Enter a number: 2\n",
            "Enter a number: 3\n",
            "Enter a number: 4\n",
            "Enter a number: 5\n",
            "Original List: [1, 2, 3, 4, 5]\n",
            "Copied list List: [1, 2, 3, 4, 5]\n",
            "Copied list List: [1, 2, 3, 4, 5]\n",
            "Copied list List: [1, 2, 3, 4, 5]\n"
          ]
        }
      ]
    },
    {
      "cell_type": "markdown",
      "source": [
        "### **11. Write a Python program to Count occurrences of an element in a list?**"
      ],
      "metadata": {
        "id": "IUn9v93sX7m7"
      }
    },
    {
      "cell_type": "code",
      "source": [
        "def count(arr, x):\n",
        "  count = 0\n",
        "  for a in arr:\n",
        "    if a == x:\n",
        "      count += 1\n",
        "  \n",
        "  return count\n",
        "\n",
        "if __name__ == \"__main__\":\n",
        "  lst = []\n",
        "  s = int(input(\"Enter size of the list: \"))\n",
        "\n",
        "  for i in range(s):\n",
        "    lst.append(int(input(\"Enter a number: \")))\n",
        "\n",
        "  x = int(input(\"Enter a number: \"))\n",
        "  while x not in lst:\n",
        "    x = int(input(\"Enter a number: \"))\n",
        "  \n",
        "  print(f\"{x} occurs {count(lst, x)} times.\")"
      ],
      "metadata": {
        "colab": {
          "base_uri": "https://localhost:8080/"
        },
        "id": "7sGx7LU2VVUF",
        "outputId": "e20077b8-2b80-4664-d822-a9d288b75255"
      },
      "execution_count": 12,
      "outputs": [
        {
          "output_type": "stream",
          "name": "stdout",
          "text": [
            "Enter size of the list: 8\n",
            "Enter a number: 1\n",
            "Enter a number: 1\n",
            "Enter a number: 2\n",
            "Enter a number: 2\n",
            "Enter a number: 3\n",
            "Enter a number: 2\n",
            "Enter a number: 3\n",
            "Enter a number: 3\n",
            "Enter a number: 3\n",
            "3 occurs 3 times.\n"
          ]
        }
      ]
    }
  ]
}