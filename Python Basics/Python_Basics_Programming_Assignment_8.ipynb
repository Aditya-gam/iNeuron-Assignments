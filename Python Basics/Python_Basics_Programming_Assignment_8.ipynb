{
  "nbformat": 4,
  "nbformat_minor": 0,
  "metadata": {
    "colab": {
      "provenance": []
    },
    "kernelspec": {
      "name": "python3",
      "display_name": "Python 3"
    },
    "language_info": {
      "name": "python"
    }
  },
  "cells": [
    {
      "cell_type": "markdown",
      "source": [
        "### **1. Write a Python Program to Add Two Matrices?**"
      ],
      "metadata": {
        "id": "UCk6ACFBbk-S"
      }
    },
    {
      "cell_type": "code",
      "source": [
        "def addMatrix(a, b):\n",
        "  return [[a[i][j] + b[i][j] for j in range(len(a[0]))] for i in range(len(a))]\n",
        "\n",
        "if __name__ == \"__main__\":\n",
        "  a = [[1,2,3],\n",
        "      [4 ,5,6],\n",
        "      [7 ,8,9]]\n",
        "  \n",
        "  b = [[9,8,7],\n",
        "      [6,5,4],\n",
        "      [3,2,1]]\n",
        "  res = addMatrix(a, b)\n",
        "\n",
        "  for r in res:\n",
        "    print(r)"
      ],
      "metadata": {
        "colab": {
          "base_uri": "https://localhost:8080/"
        },
        "id": "6isBeLY_oPm0",
        "outputId": "7420bec4-6b68-4068-aa50-dd53209a8646"
      },
      "execution_count": null,
      "outputs": [
        {
          "output_type": "stream",
          "name": "stdout",
          "text": [
            "[10, 10, 10]\n",
            "[10, 10, 10]\n",
            "[10, 10, 10]\n"
          ]
        }
      ]
    },
    {
      "cell_type": "markdown",
      "source": [
        "### **2. Write a Python Program to Multiply Two Matrices?**"
      ],
      "metadata": {
        "id": "bb77IJOAbmXv"
      }
    },
    {
      "cell_type": "code",
      "source": [
        "def multiplyMatrix(a, b):\n",
        "  result = [[0, 0, 0, 0],\n",
        "            [0, 0, 0, 0],\n",
        "            [0, 0, 0, 0]]\n",
        "\n",
        "  for i in range(len(a)):\n",
        "    for j in range(len(b[0])):\n",
        "      for k in range(len(b)):\n",
        "        result[i][j] += a[i][k] * b[k][j]\n",
        "\n",
        "  return result\n",
        "\n",
        "if __name__ == \"__main__\":\n",
        "  a = [[12, 7, 3],\n",
        "      [4, 5, 6],\n",
        "      [7, 8, 9]]\n",
        "  \n",
        "  b  = [[5, 8, 1, 2],\n",
        "      [6, 7, 3, 0],\n",
        "      [4, 5, 9, 1]]\n",
        "  result = multiplyMatrix(a, b)\n",
        "\n",
        "  for r in result:\n",
        "    print(r)"
      ],
      "metadata": {
        "colab": {
          "base_uri": "https://localhost:8080/"
        },
        "id": "jPfQn1rVrQe-",
        "outputId": "1b835f4a-b90d-46ec-bb7b-1535264a77bf"
      },
      "execution_count": null,
      "outputs": [
        {
          "output_type": "stream",
          "name": "stdout",
          "text": [
            "[114, 160, 60, 27]\n",
            "[74, 97, 73, 14]\n",
            "[119, 157, 112, 23]\n"
          ]
        }
      ]
    },
    {
      "cell_type": "markdown",
      "source": [
        "### **3. Write a Python Program to Transpose a Matrix?**"
      ],
      "metadata": {
        "id": "NeWl1BZtbqJx"
      }
    },
    {
      "cell_type": "code",
      "source": [
        "def transpose(a):\n",
        "  b = [[0 for x in range(len(a))] for y in range(len(a[0]))]\n",
        "  \n",
        "  for i in range(len(a[0])):\n",
        "    for j in range(len(a)):\n",
        "      b[i][j] = a[j][i]\n",
        "\n",
        "  return b\n",
        "\n",
        "if __name__ == \"__main__\":\n",
        "  m = int(input(\"Enter No. of Rows: \"))\n",
        "  n = int(input(\"Enter No. of Columns: \"))\n",
        "\n",
        "  a = [[int(input(\"Enter element: \")) for i in range(n)] for j in range(m)]\n",
        "  print(\"\\nOriginal Matrix: \")\n",
        "  for i in a:\n",
        "    print(i)\n",
        "\n",
        "  transpose_a = transpose(a)\n",
        "  print(\"\\nTranspose of matrix: \")\n",
        "  for t in transpose_a:\n",
        "    print(t)\n"
      ],
      "metadata": {
        "colab": {
          "base_uri": "https://localhost:8080/"
        },
        "id": "3KSbE2MNq71y",
        "outputId": "1e3baa2c-856b-4776-e862-3d3f453b9778"
      },
      "execution_count": null,
      "outputs": [
        {
          "output_type": "stream",
          "name": "stdout",
          "text": [
            "Enter No. of Rows: 4\n",
            "Enter No. of Columns: 4\n",
            "Enter element: 1\n",
            "Enter element: 1\n",
            "Enter element: 1\n",
            "Enter element: 1\n",
            "Enter element: 2\n",
            "Enter element: 2\n",
            "Enter element: 2\n",
            "Enter element: 2\n",
            "Enter element: 3\n",
            "Enter element: 3\n",
            "Enter element: 3\n",
            "Enter element: 3\n",
            "Enter element: 4\n",
            "Enter element: 4\n",
            "Enter element: 4\n",
            "Enter element: 4\n",
            "\n",
            "Original Matrix: \n",
            "[1, 1, 1, 1]\n",
            "[2, 2, 2, 2]\n",
            "[3, 3, 3, 3]\n",
            "[4, 4, 4, 4]\n",
            "\n",
            "Transpose of matrix: \n",
            "[1, 2, 3, 4]\n",
            "[1, 2, 3, 4]\n",
            "[1, 2, 3, 4]\n",
            "[1, 2, 3, 4]\n"
          ]
        }
      ]
    },
    {
      "cell_type": "code",
      "source": [
        "print(a)"
      ],
      "metadata": {
        "colab": {
          "base_uri": "https://localhost:8080/"
        },
        "id": "02luJFc1H9vH",
        "outputId": "f425607b-348f-4a99-84d8-e1bee0f79f3b"
      },
      "execution_count": null,
      "outputs": [
        {
          "output_type": "stream",
          "name": "stdout",
          "text": [
            "[[1, 1, 1, 1], [2, 2, 2, 2], [3, 3, 3, 3]]\n"
          ]
        }
      ]
    },
    {
      "cell_type": "markdown",
      "source": [
        "### **4. Write a Python Program to Sort Words in Alphabetic Order?**"
      ],
      "metadata": {
        "id": "tgwvsRL5bsnL"
      }
    },
    {
      "cell_type": "code",
      "source": [
        "def sortString(str):\n",
        "  words = str.split()\n",
        "\n",
        "  for i in range (len(words)):\n",
        "    words[i] = words[i].lower()\n",
        "  words.sort()\n",
        "\n",
        "  return \" \".join(words)\n",
        "\n",
        "if __name__ == \"__main__\":\n",
        "  str = input(\"Enter a string: \")\n",
        "  print(f\"Sorted string: {sortString(str)}\")"
      ],
      "metadata": {
        "colab": {
          "base_uri": "https://localhost:8080/"
        },
        "id": "FPhORPCETPsO",
        "outputId": "b73603d2-de79-4383-a14c-eff5cf5c5f39"
      },
      "execution_count": 4,
      "outputs": [
        {
          "output_type": "stream",
          "name": "stdout",
          "text": [
            "Enter a string: the Quick brown fox jumPs over the lazY Dog\n",
            "Sorted string: brown dog fox jumps lazy over quick the the\n"
          ]
        }
      ]
    },
    {
      "cell_type": "markdown",
      "source": [
        "### **5. Write a Python Program to Remove Punctuation From a String?**"
      ],
      "metadata": {
        "id": "K5t7HZQTbvHH"
      }
    },
    {
      "cell_type": "code",
      "source": [
        "import re\n",
        "\n",
        "def removePunctuation(str):\n",
        "  punc = '''!()-[]{};:'\"\\,<>./?@#$%^&*_~'''\n",
        "\n",
        "  for s in str:\n",
        "    if s in punc:\n",
        "      str = str.replace(s, \"\")\n",
        "  \n",
        "  return str\n",
        "\n",
        "\n",
        "if __name__ == \"__main__\":\n",
        "  str = input(\"Enter a string: \")\n",
        "\n",
        "  new_str = re.sub(r'[^\\w\\s]', '', str)\n",
        "\n",
        "  print(f\"String without punctuation: {new_str}\")\n",
        "  print(f\"String without punctuation: {removePunctuation(str)}\")"
      ],
      "metadata": {
        "colab": {
          "base_uri": "https://localhost:8080/"
        },
        "id": "P7qDF0OQaOCx",
        "outputId": "07d3f99f-5c23-4530-d800-9b985cbb0437"
      },
      "execution_count": 5,
      "outputs": [
        {
          "output_type": "stream",
          "name": "stdout",
          "text": [
            "Enter a string: hello, can : you ' remove the !! punctuations??\n",
            "String without punctuation: hello can  you  remove the  punctuations\n",
            "String without punctuation: hello can  you  remove the  punctuations\n"
          ]
        }
      ]
    }
  ]
}