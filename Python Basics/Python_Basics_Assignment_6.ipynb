{
  "nbformat": 4,
  "nbformat_minor": 0,
  "metadata": {
    "colab": {
      "provenance": []
    },
    "kernelspec": {
      "name": "python3",
      "display_name": "Python 3"
    },
    "language_info": {
      "name": "python"
    }
  },
  "cells": [
    {
      "cell_type": "markdown",
      "source": [
        "### **1. What are escape characters, and how do you use them?**"
      ],
      "metadata": {
        "id": "7KxOn-iUD_aM"
      }
    },
    {
      "cell_type": "markdown",
      "source": [
        "* Escape characters are used to insert characters that are illegal in a string. An escape character is a backslash \\ followed by the character you want to insert."
      ],
      "metadata": {
        "id": "DSI8c7PxFpuV"
      }
    },
    {
      "cell_type": "markdown",
      "source": [
        "### **2. What do the escape characters n and t stand for?**"
      ],
      "metadata": {
        "id": "tgv-2yS_EDbb"
      }
    },
    {
      "cell_type": "markdown",
      "source": [
        "* They are used in representing certain whitespace characters: \"\\t\" is a tab, \"\\n\" is a newline"
      ],
      "metadata": {
        "id": "rEuXols5GKr0"
      }
    },
    {
      "cell_type": "markdown",
      "source": [
        "### **3. What is the way to include backslash characters in a string?**"
      ],
      "metadata": {
        "id": "jSAUfUdOEGAh"
      }
    },
    {
      "cell_type": "markdown",
      "source": [
        "* If you want to include a backslash character itself, you need two backslashes or use the @ verbatim string: var s = \"\\\\Tasks\"; // or var s = @\"\\Tasks\";"
      ],
      "metadata": {
        "id": "RNOJqFZvQYTk"
      }
    },
    {
      "cell_type": "markdown",
      "source": [
        "### **4. The string \"Howl's Moving Castle\" is a correct value. Why isn't the single quote character in the word Howl's not escaped a problem?**"
      ],
      "metadata": {
        "id": "EABnlWTXEIF2"
      }
    },
    {
      "cell_type": "markdown",
      "source": [
        "* The single quote in Howl's is fine because you've used double quotes to mark the beginning and end of the string."
      ],
      "metadata": {
        "id": "CqwjH4BXQtMe"
      }
    },
    {
      "cell_type": "markdown",
      "source": [
        "### **5. How do you write a string of newlines if you don't want to use the n character?**"
      ],
      "metadata": {
        "id": "emoUCphwEnDQ"
      }
    },
    {
      "cell_type": "markdown",
      "source": [
        "* You can print strings without adding a new line with end = 'character' , which 'character' is the character that will be used to separate the lines."
      ],
      "metadata": {
        "id": "HyYU-KFKRKF8"
      }
    },
    {
      "cell_type": "markdown",
      "source": [
        "### **6. What are the values of the given expressions?**\n",
        "### **'Hello, world!'[1]**\n",
        "### **'Hello, world!'[0:5]**\n",
        "### **'Hello, world!'[:5]**\n",
        "### **'Hello, world!'[3:]**"
      ],
      "metadata": {
        "id": "PgbsRUSNEs17"
      }
    },
    {
      "cell_type": "code",
      "source": [
        "print('Hello, world!'[1])\n",
        "print('Hello, world!'[0:5])\n",
        "print('Hello, world!'[:5])\n",
        "print('Hello, world!'[3:])"
      ],
      "metadata": {
        "colab": {
          "base_uri": "https://localhost:8080/"
        },
        "id": "5YaMboPaRgZu",
        "outputId": "4733f2a1-76e4-4950-e0b9-204bb20ae716"
      },
      "execution_count": 4,
      "outputs": [
        {
          "output_type": "stream",
          "name": "stdout",
          "text": [
            "e\n",
            "Hello\n",
            "Hello\n",
            "lo, world!\n"
          ]
        }
      ]
    },
    {
      "cell_type": "markdown",
      "source": [
        "### **7. What are the values of the following expressions?**\n",
        "### **'Hello'.upper()**\n",
        "### **'Hello'.upper().isupper()**\n",
        "### **'Hello'.upper().lower()**"
      ],
      "metadata": {
        "id": "PkHSF0DhE8gl"
      }
    },
    {
      "cell_type": "code",
      "source": [
        "print('Hello'.upper())\n",
        "print('Hello'.upper().isupper())\n",
        "print('Hello'.upper().lower())"
      ],
      "metadata": {
        "colab": {
          "base_uri": "https://localhost:8080/"
        },
        "id": "blAjrGcHRuhV",
        "outputId": "d1a14f2e-46a3-43aa-fd5b-b0ae51d69b34"
      },
      "execution_count": 6,
      "outputs": [
        {
          "output_type": "stream",
          "name": "stdout",
          "text": [
            "HELLO\n",
            "True\n",
            "hello\n"
          ]
        }
      ]
    },
    {
      "cell_type": "markdown",
      "source": [
        "### **8. What are the values of the following expressions?**\n",
        "### **'Remember, remember, the fifth of July.'.split()**\n",
        "### **'-'.join('There can only one.'.split())**"
      ],
      "metadata": {
        "id": "vvDPmGj_FH6d"
      }
    },
    {
      "cell_type": "code",
      "source": [
        "print('Remember, remember, the fifth of July.'.split())\n",
        "print('-'.join('There can only one.'.split()))"
      ],
      "metadata": {
        "colab": {
          "base_uri": "https://localhost:8080/"
        },
        "id": "rQvB4UQdSHL1",
        "outputId": "3c668317-1b59-459c-a4dc-a735d2ee26a5"
      },
      "execution_count": 7,
      "outputs": [
        {
          "output_type": "stream",
          "name": "stdout",
          "text": [
            "['Remember,', 'remember,', 'the', 'fifth', 'of', 'July.']\n",
            "There-can-only-one.\n"
          ]
        }
      ]
    },
    {
      "cell_type": "markdown",
      "source": [
        "### **9. What are the methods for right-justifying, left-justifying, and centering a string?**"
      ],
      "metadata": {
        "id": "5JVgxLQVFXYi"
      }
    },
    {
      "cell_type": "markdown",
      "source": [
        "* rjust(), ljust(), center() respectively are used to right justify, left justify and center the string."
      ],
      "metadata": {
        "id": "wfROwLnSSrr_"
      }
    },
    {
      "cell_type": "markdown",
      "source": [
        "### **10. What is the best way to remove whitespace characters from the start or end?**"
      ],
      "metadata": {
        "id": "Njjqvx9mFbpN"
      }
    },
    {
      "cell_type": "markdown",
      "source": [
        "* Use the . strip() method to remove whitespace and characters from the beginning and the end of a string."
      ],
      "metadata": {
        "id": "m4XbcIj2TiB8"
      }
    }
  ]
}