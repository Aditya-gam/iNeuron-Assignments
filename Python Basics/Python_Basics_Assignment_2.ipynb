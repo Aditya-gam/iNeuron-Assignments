{
  "nbformat": 4,
  "nbformat_minor": 0,
  "metadata": {
    "colab": {
      "provenance": []
    },
    "kernelspec": {
      "name": "python3",
      "display_name": "Python 3"
    },
    "language_info": {
      "name": "python"
    }
  },
  "cells": [
    {
      "cell_type": "markdown",
      "source": [
        "###**1.What are the two values of the Boolean data type? How do you write them?**"
      ],
      "metadata": {
        "id": "HzDO7pIHIPrY"
      }
    },
    {
      "cell_type": "markdown",
      "source": [
        "Data type boolean can have two values: true and false. Boolean expressions use relational and logical operators. The result of a Boolean expression is either true or false."
      ],
      "metadata": {
        "id": "7Q43KL2_ITDg"
      }
    },
    {
      "cell_type": "markdown",
      "source": [
        "### **2. What are the three different types of Boolean operators?**"
      ],
      "metadata": {
        "id": "A2ujBlToJUYi"
      }
    },
    {
      "cell_type": "markdown",
      "source": [
        "The three basic boolean operators are: AND, OR, and NOT."
      ],
      "metadata": {
        "id": "7yWqn0JeJp56"
      }
    },
    {
      "cell_type": "markdown",
      "source": [
        "### **3. Make a list of each Boolean operator's truth tables (i.e. every possible combination of Boolean values for the operator and what it evaluate ).**"
      ],
      "metadata": {
        "id": "7oh4v-LUJ4W0"
      }
    },
    {
      "cell_type": "markdown",
      "source": [
        "* A and B\n",
        "  - A\t| B | A and B\n",
        "  - 1\t| 1\t|    1\n",
        "  - 1\t| 0\t|    0\n",
        "  - 0\t| 1\t|    0\n",
        "  - 0\t| 0\t|    0\n",
        "\n",
        "* A or B\n",
        "  - A\t| B | A and B\n",
        "  - 1\t| 1\t|    1\n",
        "  - 1\t| 0\t|    1\n",
        "  - 0\t| 1\t|    1\n",
        "  - 0\t| 0\t|    0\n",
        "\n",
        "* not A\n",
        "  - A | not A\n",
        "  - 1 |   0\n",
        "  - 0 |   1"
      ],
      "metadata": {
        "id": "adR1U7s_KIfr"
      }
    },
    {
      "cell_type": "markdown",
      "source": [
        "###**4. What are the values of the following expressions?**\n",
        "\n"
      ],
      "metadata": {
        "id": "cqitCsG8Ld_b"
      }
    },
    {
      "cell_type": "markdown",
      "source": [
        "  * **(5 > 4) and (3 == 5):** False\n",
        "  * **not (5 > 4):** False\n",
        "  * **(5 > 4) or (3 == 5):** True\n",
        "  * **not ((5 > 4) or (3 == 5)):** False\n",
        "  * **(True and True) and (True == False):** False\n",
        "  * **(not False) or (not True):** True"
      ],
      "metadata": {
        "id": "k52-SeSwLn2k"
      }
    },
    {
      "cell_type": "markdown",
      "source": [
        "###**5. What are the six comparison operators?**"
      ],
      "metadata": {
        "id": "6_Xa-S_RMY8P"
      }
    },
    {
      "cell_type": "markdown",
      "source": [
        "The comparision operators are:\n",
        "1. Greater Than '>'\n",
        "2. Less Than '<'\n",
        "3. Greater Than or Equal to '>='\n",
        "4. Less Than or Equal to '<='\n",
        "5. Equal to '=='\n",
        "6. Not Equal to '!='"
      ],
      "metadata": {
        "id": "lEVfipkgMech"
      }
    },
    {
      "cell_type": "markdown",
      "source": [
        "###**6. How do you tell the difference between the equal to and assignment operators? Describe a condition and when you would use one.**"
      ],
      "metadata": {
        "id": "peHE8dJ9NE_T"
      }
    },
    {
      "cell_type": "markdown",
      "source": [
        "\n",
        "\n",
        "*   The equal to is a comparision operator and is represented by double equal to sign '==' while assignment operator is used to assign a value to a variable and represented by single equal to sign '='. \n",
        "*   Comparision equal to is used to check if two values are equal. For eg, '1 == 2', 'a == b'. It returns a boolean value (true or false).\n",
        "*   Assignment operator is used to assign a value to a variable. For eg, 'a = 13', 'a = b'. It does not return anything."
      ],
      "metadata": {
        "id": "9VsZ_3XJNivd"
      }
    },
    {
      "cell_type": "markdown",
      "source": [
        "### **7. Identify the three blocks in this code:**"
      ],
      "metadata": {
        "id": "FN7k_PJ0O_Vv"
      }
    },
    {
      "cell_type": "code",
      "source": [
        "spam = 0 # Block 1\n",
        "\n",
        "if spam == 10: # Block 2\n",
        "  print('eggs')\n",
        "\n",
        "if spam > 5: # Block 3\n",
        "  print('bacon')\n",
        "else:\n",
        "  print('ham')\n",
        "\n",
        "print('spam') # Block 4\n",
        "print('spam')\n"
      ],
      "metadata": {
        "colab": {
          "base_uri": "https://localhost:8080/"
        },
        "id": "m5GssLQyPBgY",
        "outputId": "4761c9ea-cbd8-42d3-ecaf-3b34c93a7a2d"
      },
      "execution_count": null,
      "outputs": [
        {
          "output_type": "stream",
          "name": "stdout",
          "text": [
            "ham\n",
            "spam\n",
            "spam\n"
          ]
        }
      ]
    },
    {
      "cell_type": "markdown",
      "source": [
        "### **8. Write code that prints Hello if 1 is stored in spam, prints Howdy if 2 is stored in spam, and prints Greetings! if anything else is stored in spam.**"
      ],
      "metadata": {
        "id": "sizg6rPXPhLf"
      }
    },
    {
      "cell_type": "code",
      "source": [
        "spam = input(\"Enter a Value: \")\n",
        "\n",
        "if spam == '1':\n",
        "  print('Hello')\n",
        "elif spam == '2':\n",
        "  print('Howdy')\n",
        "else:\n",
        "  print('Greetings!')"
      ],
      "metadata": {
        "colab": {
          "base_uri": "https://localhost:8080/"
        },
        "id": "7Bdmw8_SMC1n",
        "outputId": "81a40f4a-e167-4439-8096-528260153be7"
      },
      "execution_count": null,
      "outputs": [
        {
          "output_type": "stream",
          "name": "stdout",
          "text": [
            "Enter a Value: 6\n",
            "Greetings!\n"
          ]
        }
      ]
    },
    {
      "cell_type": "markdown",
      "source": [
        "###**9.If your programme is stuck in an endless loop, what keys you’ll press?**"
      ],
      "metadata": {
        "id": "nWWUgEQtQOyd"
      }
    },
    {
      "cell_type": "markdown",
      "source": [
        "ctrl + c"
      ],
      "metadata": {
        "id": "rT_X_gZXQQ1b"
      }
    },
    {
      "cell_type": "markdown",
      "source": [
        "###**10. How can you tell the difference between break and continue?**"
      ],
      "metadata": {
        "id": "d4FX4_tYQcO9"
      }
    },
    {
      "cell_type": "markdown",
      "source": [
        "1. Continue:\n",
        "    * In the continue statement, the control remains within the loop.\n",
        "    * It is used to skip a particular iteration of the loop.\n",
        "2. Break:\n",
        "    * In the break statement, the control exits from the loop.\n",
        "    * It is used to stop the execution of the loop at a specific condition."
      ],
      "metadata": {
        "id": "l1GGHhvBQnQo"
      }
    },
    {
      "cell_type": "markdown",
      "source": [
        "### **11. In a for loop, what is the difference between range(10), range(0, 10), and range(0, 10, 1)?**"
      ],
      "metadata": {
        "id": "9zRyRmqmRIll"
      }
    },
    {
      "cell_type": "markdown",
      "source": [
        "\n",
        "There is no difference between the three conditions as it uses the default cases.\n",
        "*  range(10) iterates till the value <10 i.e., upto 9 and by default starts from 0. By default the value is iterated by 1.\n",
        "*  range(0, 10) starts the iteration from 0(which is the default value) till <10 i.e., upto 9. By default the value is iterated by 1.\n",
        "* range(0, 10, 1) starts the iteration from 0(which is the default value) till <10 i.e., upto 9. The value is iterated by 1(which is the default value).\n",
        "\n"
      ],
      "metadata": {
        "id": "Vm6JCmU1RgKa"
      }
    },
    {
      "cell_type": "markdown",
      "source": [
        "###**12. Write a short program that prints the numbers 1 to 10 using a for loop. Then write an equivalent program that prints the numbers 1 to 10 using a while loop.**"
      ],
      "metadata": {
        "id": "MJ-AJuhDTiTR"
      }
    },
    {
      "cell_type": "code",
      "source": [
        "for i in range(1, 11):\n",
        "  print(i)"
      ],
      "metadata": {
        "id": "mCGGjzmOQB_c",
        "colab": {
          "base_uri": "https://localhost:8080/"
        },
        "outputId": "5ec1316f-c96d-4a13-dc16-8e7f43a97b7b"
      },
      "execution_count": null,
      "outputs": [
        {
          "output_type": "stream",
          "name": "stdout",
          "text": [
            "1\n",
            "2\n",
            "3\n",
            "4\n",
            "5\n",
            "6\n",
            "7\n",
            "8\n",
            "9\n",
            "10\n"
          ]
        }
      ]
    },
    {
      "cell_type": "code",
      "source": [
        "i = 1\n",
        "while i <= 10:\n",
        "  print(i)\n",
        "  i+=1"
      ],
      "metadata": {
        "colab": {
          "base_uri": "https://localhost:8080/"
        },
        "id": "CCq5SKqOTpY0",
        "outputId": "d5c9ce07-95e4-4de5-ea1d-4244ab92d033"
      },
      "execution_count": null,
      "outputs": [
        {
          "output_type": "stream",
          "name": "stdout",
          "text": [
            "1\n",
            "2\n",
            "3\n",
            "4\n",
            "5\n",
            "6\n",
            "7\n",
            "8\n",
            "9\n",
            "10\n"
          ]
        }
      ]
    },
    {
      "cell_type": "markdown",
      "source": [
        "### **13. If you had a function named bacon() inside a module named spam, how would you call it after importing spam?**"
      ],
      "metadata": {
        "id": "S2yzhLKST7Kk"
      }
    },
    {
      "cell_type": "markdown",
      "source": [
        "We can call the function using 'spam.bacon()'"
      ],
      "metadata": {
        "id": "F6bO1MsZU7BO"
      }
    }
  ]
}