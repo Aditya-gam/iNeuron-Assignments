{
  "nbformat": 4,
  "nbformat_minor": 0,
  "metadata": {
    "colab": {
      "provenance": []
    },
    "kernelspec": {
      "name": "python3",
      "display_name": "Python 3"
    },
    "language_info": {
      "name": "python"
    }
  },
  "cells": [
    {
      "cell_type": "markdown",
      "source": [
        "### **1. Write a Python program to convert kilometers to miles?**"
      ],
      "metadata": {
        "id": "Blp0OacUfQ3E"
      }
    },
    {
      "cell_type": "code",
      "source": [
        "def kilotoMiles(length):\n",
        "  return length/1.609\n",
        "\n",
        "dist = int(input(\"Enter Distance in Kilometers: \"))\n",
        "print(f\"Distance in Miles: {kilotoMiles(dist)}\")"
      ],
      "metadata": {
        "colab": {
          "base_uri": "https://localhost:8080/"
        },
        "id": "ukBWN5sogmMe",
        "outputId": "4d64923e-4e24-41e1-e5ce-aed8da4403ef"
      },
      "execution_count": 4,
      "outputs": [
        {
          "output_type": "stream",
          "name": "stdout",
          "text": [
            "Enter Distance in Kilometers: 30\n",
            "18.645121193287757\n"
          ]
        }
      ]
    },
    {
      "cell_type": "markdown",
      "source": [
        "### **2. Write a Python program to convert Celsius to Fahrenheit?**"
      ],
      "metadata": {
        "id": "SMkdRdmgfXL-"
      }
    },
    {
      "cell_type": "code",
      "source": [
        "def celsiusToFahrenheit(temp):\n",
        "  return ((temp*1.8) + 32)\n",
        "\n",
        "temp = int(input(\"Enter Temp in celsius: \"))\n",
        "print(f\"Temp in Fahrenheit: {celsiusToFahrenheit(temp)}\")"
      ],
      "metadata": {
        "colab": {
          "base_uri": "https://localhost:8080/"
        },
        "id": "qCKJieVAtiCJ",
        "outputId": "d6959f98-4e4e-481b-d447-80fef86739aa"
      },
      "execution_count": 8,
      "outputs": [
        {
          "output_type": "stream",
          "name": "stdout",
          "text": [
            "Enter Temp in celsius: 100\n",
            "Temp in Fahrenheit: 212.0\n"
          ]
        }
      ]
    },
    {
      "cell_type": "markdown",
      "source": [
        "### **3. Write a Python program to display calendar?**"
      ],
      "metadata": {
        "id": "lCNU5goTfaaX"
      }
    },
    {
      "cell_type": "code",
      "source": [
        "import calendar\n",
        "yy = int(input(\"Enter Year: \"))\n",
        "mm = int(input(\"Enter Month: \"))\n",
        "\n",
        "print(calendar.month(yy, mm))"
      ],
      "metadata": {
        "colab": {
          "base_uri": "https://localhost:8080/"
        },
        "id": "gNvD6EuDuwDm",
        "outputId": "1ac8f477-9b3c-4cb7-be0f-7681cd41cb0b"
      },
      "execution_count": 9,
      "outputs": [
        {
          "output_type": "stream",
          "name": "stdout",
          "text": [
            "Enter Year: 2022\n",
            "Enter Month: 7\n",
            "     July 2022\n",
            "Mo Tu We Th Fr Sa Su\n",
            "             1  2  3\n",
            " 4  5  6  7  8  9 10\n",
            "11 12 13 14 15 16 17\n",
            "18 19 20 21 22 23 24\n",
            "25 26 27 28 29 30 31\n",
            "\n"
          ]
        }
      ]
    },
    {
      "cell_type": "markdown",
      "source": [
        "### **4. Write a Python program to solve quadratic equation?**"
      ],
      "metadata": {
        "id": "PWY58YVMfcw2"
      }
    },
    {
      "cell_type": "code",
      "source": [
        "import math\n",
        "def solveQuadratic(a, b, c):\n",
        "  if (b**2) - (4*a*c) < 0:\n",
        "    return [\"Does not have real solutions.\",]\n",
        "  else:\n",
        "    return [((-b) + math.sqrt((b**2) - (4*a*c)))/2*a, ((-b) - math.sqrt((b**2) - (4*a*c)))/2*a]\n",
        "  \n",
        "if __name__ == '__main__':\n",
        "  print(\"Enter The coefficients: \")\n",
        "  a = int(input(\"a: \"))\n",
        "  b = int(input(\"b: \"))\n",
        "  c = int(input(\"c: \"))\n",
        "\n",
        "  print(f\"Solution of quadratic equation: {solveQuadratic(a, b, c)}\")"
      ],
      "metadata": {
        "colab": {
          "base_uri": "https://localhost:8080/"
        },
        "id": "bofqJ-DNxakB",
        "outputId": "3f64d802-6154-4d59-82b5-38e994edf79d"
      },
      "execution_count": 11,
      "outputs": [
        {
          "output_type": "stream",
          "name": "stdout",
          "text": [
            "Enter The coefficients: \n",
            "a: 1\n",
            "b: -3\n",
            "c: 2\n",
            "Solution of quadratic equation: [2.0, 1.0]\n"
          ]
        }
      ]
    },
    {
      "cell_type": "markdown",
      "source": [
        "### **5. Write a Python program to swap two variables without temp variable?**"
      ],
      "metadata": {
        "id": "MAuJ7WKgfffW"
      }
    },
    {
      "cell_type": "code",
      "execution_count": 2,
      "metadata": {
        "colab": {
          "base_uri": "https://localhost:8080/"
        },
        "id": "8m30RfvFfPcB",
        "outputId": "9e141a82-60ba-4935-d200-5db55445af19"
      },
      "outputs": [
        {
          "output_type": "stream",
          "name": "stdout",
          "text": [
            "Enter value 1: as\n",
            "Enter value 2: sd\n",
            "['sd', 'as']\n"
          ]
        }
      ],
      "source": [
        "def swap(a, b):\n",
        "  a, b = b, a\n",
        "  return [a, b]\n",
        "\n",
        "a = input(\"Enter value 1: \")\n",
        "b = input(\"Enter value 2: \")\n",
        "\n",
        "print(swap(a, b))"
      ]
    }
  ]
}