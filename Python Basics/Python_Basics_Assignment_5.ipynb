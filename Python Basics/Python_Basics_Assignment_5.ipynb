{
  "nbformat": 4,
  "nbformat_minor": 0,
  "metadata": {
    "colab": {
      "provenance": []
    },
    "kernelspec": {
      "name": "python3",
      "display_name": "Python 3"
    },
    "language_info": {
      "name": "python"
    }
  },
  "cells": [
    {
      "cell_type": "markdown",
      "source": [
        "### **1. What does an empty dictionary's code look like?**"
      ],
      "metadata": {
        "id": "FfxyqJ0ESiZg"
      }
    },
    {
      "cell_type": "markdown",
      "source": [
        "* An empty dictionary is defined by {}.\n",
        "\n",
        "```python\n",
        "dictionary = {}\n",
        "```\n",
        "\n"
      ],
      "metadata": {
        "id": "abeUK0aBTe9D"
      }
    },
    {
      "cell_type": "markdown",
      "source": [
        "### **2. What is the value of a dictionary value with the key 'foo' and the value 42?**"
      ],
      "metadata": {
        "id": "LILZ3T0oSlCQ"
      }
    },
    {
      "cell_type": "code",
      "source": [
        "d = {'foo': 42}\n",
        "d"
      ],
      "metadata": {
        "colab": {
          "base_uri": "https://localhost:8080/"
        },
        "id": "71HfbcEvT30B",
        "outputId": "e57b1a68-b544-4084-e734-6ddfe0246a79"
      },
      "execution_count": 1,
      "outputs": [
        {
          "output_type": "execute_result",
          "data": {
            "text/plain": [
              "{'foo': 42}"
            ]
          },
          "metadata": {},
          "execution_count": 1
        }
      ]
    },
    {
      "cell_type": "markdown",
      "source": [
        "### **3. What is the most significant distinction between a dictionary and a list?**"
      ],
      "metadata": {
        "id": "HFWeWKgoSopI"
      }
    },
    {
      "cell_type": "markdown",
      "source": [
        "* The items stored in a dictionary are unordered, while the items in a list are ordered.\n",
        "* Items in dictionary are stored in key value pairs."
      ],
      "metadata": {
        "id": "5_ikV5HnUAWi"
      }
    },
    {
      "cell_type": "markdown",
      "source": [
        "### **4. What happens if you try to access spam['foo'] if spam is {'bar': 100}?**"
      ],
      "metadata": {
        "id": "mJLuom1GSrVY"
      }
    },
    {
      "cell_type": "markdown",
      "source": [
        "* It gives and 'KeyError' error which means that the key requested does not exist."
      ],
      "metadata": {
        "id": "W5jRystyVk7B"
      }
    },
    {
      "cell_type": "code",
      "source": [
        "spam = {'bar': 100}\n",
        "spam['foo']"
      ],
      "metadata": {
        "colab": {
          "base_uri": "https://localhost:8080/",
          "height": 189
        },
        "id": "nVFp4YzAVc8n",
        "outputId": "02b5ca7e-0018-4045-96ce-db5d1d153796"
      },
      "execution_count": 2,
      "outputs": [
        {
          "output_type": "error",
          "ename": "KeyError",
          "evalue": "ignored",
          "traceback": [
            "\u001b[0;31m---------------------------------------------------------------------------\u001b[0m",
            "\u001b[0;31mKeyError\u001b[0m                                  Traceback (most recent call last)",
            "\u001b[0;32m<ipython-input-2-56a8e50c7ff8>\u001b[0m in \u001b[0;36m<module>\u001b[0;34m\u001b[0m\n\u001b[1;32m      1\u001b[0m \u001b[0mspam\u001b[0m \u001b[0;34m=\u001b[0m \u001b[0;34m{\u001b[0m\u001b[0;34m'bar'\u001b[0m\u001b[0;34m:\u001b[0m \u001b[0;36m100\u001b[0m\u001b[0;34m}\u001b[0m\u001b[0;34m\u001b[0m\u001b[0;34m\u001b[0m\u001b[0m\n\u001b[0;32m----> 2\u001b[0;31m \u001b[0mspam\u001b[0m\u001b[0;34m[\u001b[0m\u001b[0;34m'foo'\u001b[0m\u001b[0;34m]\u001b[0m\u001b[0;34m\u001b[0m\u001b[0;34m\u001b[0m\u001b[0m\n\u001b[0m",
            "\u001b[0;31mKeyError\u001b[0m: 'foo'"
          ]
        }
      ]
    },
    {
      "cell_type": "markdown",
      "source": [
        "### **5. If a dictionary is stored in spam, what is the difference between the expressions 'cat' in spam and 'cat' in spam.keys()?**"
      ],
      "metadata": {
        "id": "sYNOFJopSt40"
      }
    },
    {
      "cell_type": "markdown",
      "source": [
        "* There is no difference. The in operator checks whether a value exists as a key in the dictionary. "
      ],
      "metadata": {
        "id": "nFBl3p52WTAg"
      }
    },
    {
      "cell_type": "markdown",
      "source": [
        "### **6. If a dictionary is stored in spam, what is the difference between the expressions 'cat' in spam and 'cat' in spam.values()?**"
      ],
      "metadata": {
        "id": "8atIuIUFSw0j"
      }
    },
    {
      "cell_type": "markdown",
      "source": [
        "* 'cat' in spam checks whether there is a 'cat' key in the dictionary, while 'cat' in spam. values() checks whether there is a value 'cat' for one of the keys in spam ."
      ],
      "metadata": {
        "id": "twJl_DypWco8"
      }
    },
    {
      "cell_type": "markdown",
      "source": [
        "### **7. What is a shortcut for the following code?**\n",
        "### **if 'color' not in spam:**\n",
        "### **spam['color'] = 'black'**\n"
      ],
      "metadata": {
        "id": "48SqNDLcS4jQ"
      }
    },
    {
      "cell_type": "code",
      "source": [
        "spam.setdefault('color', 'black')"
      ],
      "metadata": {
        "colab": {
          "base_uri": "https://localhost:8080/",
          "height": 36
        },
        "id": "QC5BOtP1WnuH",
        "outputId": "882603b5-6105-4744-8651-ac548d49510a"
      },
      "execution_count": 3,
      "outputs": [
        {
          "output_type": "execute_result",
          "data": {
            "text/plain": [
              "'black'"
            ],
            "application/vnd.google.colaboratory.intrinsic+json": {
              "type": "string"
            }
          },
          "metadata": {},
          "execution_count": 3
        }
      ]
    },
    {
      "cell_type": "markdown",
      "source": [
        "### **8. How do you \"pretty print\" dictionary values using which module and function?**"
      ],
      "metadata": {
        "id": "sXUXrmB8S6Pc"
      }
    },
    {
      "cell_type": "markdown",
      "source": [
        "* We use pprint is the module used for pretty printing dictionary values.\n",
        "* The function used is pprint()\n",
        "\n",
        "```python\n",
        "pprint.pprint()\n",
        "```\n",
        "\n"
      ],
      "metadata": {
        "id": "2vBRYQR7W0Ju"
      }
    }
  ]
}