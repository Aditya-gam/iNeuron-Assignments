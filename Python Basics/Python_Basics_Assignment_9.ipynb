{
  "nbformat": 4,
  "nbformat_minor": 0,
  "metadata": {
    "colab": {
      "provenance": []
    },
    "kernelspec": {
      "name": "python3",
      "display_name": "Python 3"
    },
    "language_info": {
      "name": "python"
    }
  },
  "cells": [
    {
      "cell_type": "markdown",
      "source": [
        "### **1. To what does a relative path refer?**"
      ],
      "metadata": {
        "id": "yvQkeVXSeMBX"
      }
    },
    {
      "cell_type": "markdown",
      "source": [
        "* A relative path in Python is a path that describes the location of a directory relative to the entry point where you run the Python scriptA relative path in Python is a path that describes the location of a directory relative to the entry point where you run the Python script."
      ],
      "metadata": {
        "id": "7X-S4ioxhFvG"
      }
    },
    {
      "cell_type": "markdown",
      "source": [
        "### **2. What does an absolute path start with your operating system?**"
      ],
      "metadata": {
        "id": "5p8vDaYFeOaQ"
      }
    },
    {
      "cell_type": "markdown",
      "source": [
        "* Absolute path is a complete path from start of actual filesystem from / directory"
      ],
      "metadata": {
        "id": "q_8DPc1KPIlB"
      }
    },
    {
      "cell_type": "markdown",
      "source": [
        "### **3. What do the functions os.getcwd() and os.chdir() do?**"
      ],
      "metadata": {
        "id": "4hKuCdUEeQYC"
      }
    },
    {
      "cell_type": "markdown",
      "source": [
        "* getcwd(): This function allows you to see what your current working directory is. chdir(): This function allows you to set the current working directory to a path of your choice."
      ],
      "metadata": {
        "id": "qhlBA6_xQGqE"
      }
    },
    {
      "cell_type": "markdown",
      "source": [
        "### **4. What are the . and .. folders?**"
      ],
      "metadata": {
        "id": "9SMCw3fBeTIm"
      }
    },
    {
      "cell_type": "markdown",
      "source": [
        "* The . is the current directory, while .. signifies the parent directory."
      ],
      "metadata": {
        "id": "tVV1wgYRQp5F"
      }
    },
    {
      "cell_type": "markdown",
      "source": [
        "### **5. In C:\\bacon\\eggs\\spam.txt, which part is the dir name, and which part is the base name?**"
      ],
      "metadata": {
        "id": "biBr9TlveVmz"
      }
    },
    {
      "cell_type": "markdown",
      "source": [
        "* C:\\bacon\\eggs is the dir name, while spam. txt is the base name."
      ],
      "metadata": {
        "id": "oo2NxoY2RrbE"
      }
    },
    {
      "cell_type": "markdown",
      "source": [
        "### **6. What are the three “mode” arguments that can be passed to the open() function?**"
      ],
      "metadata": {
        "id": "pZUYQ1hOeYDh"
      }
    },
    {
      "cell_type": "markdown",
      "source": [
        "* The string 'r' for read mode, 'w' for write mode, and 'a' for append mode\n"
      ],
      "metadata": {
        "id": "_opsjHd3T-qF"
      }
    },
    {
      "cell_type": "markdown",
      "source": [
        "### **7. What happens if an existing file is opened in write mode?**"
      ],
      "metadata": {
        "id": "8gGI-WIyebGZ"
      }
    },
    {
      "cell_type": "markdown",
      "source": [
        "* An existing file opened in write mode is erased and completely overwritten."
      ],
      "metadata": {
        "id": "aGA6qAg-ULdd"
      }
    },
    {
      "cell_type": "markdown",
      "source": [
        "### **8. How do you tell the difference between read() and readlines()?**"
      ],
      "metadata": {
        "id": "sw2AVlkaedV9"
      }
    },
    {
      "cell_type": "markdown",
      "source": [
        "* The read() method returns the file's entire contents as a single string value. The readlines() method returns a list of strings, where each string is a line from the file's contents."
      ],
      "metadata": {
        "id": "ok6lSo3tUuHV"
      }
    },
    {
      "cell_type": "markdown",
      "source": [
        "### **9. What data structure does a shelf value resemble?**"
      ],
      "metadata": {
        "id": "DI9z8zssegCH"
      }
    },
    {
      "cell_type": "markdown",
      "source": [
        "* A shelf value resembles a dictionary value; it has keys and values, along with keys() and values() methods that work similarly to the dictionary methods of the same names."
      ],
      "metadata": {
        "id": "P7v4wlekVC8z"
      }
    }
  ]
}