{
  "nbformat": 4,
  "nbformat_minor": 0,
  "metadata": {
    "colab": {
      "provenance": []
    },
    "kernelspec": {
      "name": "python3",
      "display_name": "Python 3"
    },
    "language_info": {
      "name": "python"
    }
  },
  "cells": [
    {
      "cell_type": "markdown",
      "source": [
        "### **1. Write a Python Program to Find the Factorial of a Number?**"
      ],
      "metadata": {
        "id": "d6y1qkE_HvX5"
      }
    },
    {
      "cell_type": "code",
      "source": [
        "def fact(num):\n",
        "  if num == 0:\n",
        "    return 1\n",
        "  return num * fact(num-1)\n",
        "\n",
        "if __name__ == \"__main__\":\n",
        "  num = int(input(\"Enter a number: \"))\n",
        "  print(f\"Factorial of {num} is {fact(num)}\")"
      ],
      "metadata": {
        "colab": {
          "base_uri": "https://localhost:8080/"
        },
        "id": "n5k1QTPaIIxC",
        "outputId": "ae03f4b0-63a6-4ee8-96ed-08877476f86c"
      },
      "execution_count": 4,
      "outputs": [
        {
          "output_type": "stream",
          "name": "stdout",
          "text": [
            "Enter a number: 6\n",
            "Factorial of 6 is 720\n"
          ]
        }
      ]
    },
    {
      "cell_type": "markdown",
      "source": [
        "### **2. Write a Python Program to Display the multiplication Table?**"
      ],
      "metadata": {
        "id": "06vpJ0ljHwg0"
      }
    },
    {
      "cell_type": "code",
      "source": [
        "def displayTable(num):\n",
        "  for i in range(1, 11):\n",
        "    print(f\"{num} X {i} = {num * i}\")\n",
        "\n",
        "if __name__ == \"__main__\":\n",
        "  num = int(input(\"Enter a number: \"))\n",
        "  displayTable(num)"
      ],
      "metadata": {
        "colab": {
          "base_uri": "https://localhost:8080/"
        },
        "id": "LXverJOUI1sL",
        "outputId": "abc1e2ef-af3e-4740-c16f-725dd588228e"
      },
      "execution_count": 6,
      "outputs": [
        {
          "output_type": "stream",
          "name": "stdout",
          "text": [
            "Enter a number: 7\n",
            "7 X 1 = 7\n",
            "7 X 2 = 14\n",
            "7 X 3 = 21\n",
            "7 X 4 = 28\n",
            "7 X 5 = 35\n",
            "7 X 6 = 42\n",
            "7 X 7 = 49\n",
            "7 X 8 = 56\n",
            "7 X 9 = 63\n",
            "7 X 10 = 70\n"
          ]
        }
      ]
    },
    {
      "cell_type": "markdown",
      "source": [
        "### **3. Write a Python Program to Print the Fibonacci sequence?**"
      ],
      "metadata": {
        "id": "Ce5-bUsFHywx"
      }
    },
    {
      "cell_type": "code",
      "source": [
        "def fibonacci(num):\n",
        "  if num < 2:\n",
        "    return num\n",
        "  return fibonacci(num-1) + fibonacci(num-2)\n",
        "\n",
        "if __name__ == \"__main__\":\n",
        "  numOfTerms = int(input(\"Enter Number of terms: \"))\n",
        "  for i in range(numOfTerms):\n",
        "    print(fibonacci(i))"
      ],
      "metadata": {
        "colab": {
          "base_uri": "https://localhost:8080/"
        },
        "id": "kIOXzgg_KxkO",
        "outputId": "0a860554-cc66-4ce6-be10-cd60b502e1a0"
      },
      "execution_count": 7,
      "outputs": [
        {
          "output_type": "stream",
          "name": "stdout",
          "text": [
            "Enter Number of terms: 10\n",
            "0\n",
            "1\n",
            "1\n",
            "2\n",
            "3\n",
            "5\n",
            "8\n",
            "13\n",
            "21\n",
            "34\n"
          ]
        }
      ]
    },
    {
      "cell_type": "markdown",
      "source": [
        "### **4. Write a Python Program to Check Armstrong Number?**"
      ],
      "metadata": {
        "id": "hAF4oxW7H1M1"
      }
    },
    {
      "cell_type": "code",
      "source": [
        "def power(b, p):\n",
        "  if p == 0:\n",
        "    return 1\n",
        "  if p % 2 == 0:\n",
        "    return power(b, p // 2) * power(b, p // 2)\n",
        "  return b * power(b, p // 2) * power(b, p // 2)\n",
        "\n",
        "def order(num):\n",
        "  n = 0\n",
        "\n",
        "  while(num != 0):\n",
        "    n += 1\n",
        "    num = num // 10\n",
        "  \n",
        "  return n\n",
        "\n",
        "def isArmstrong(num):\n",
        "  n = order(num)\n",
        "  temp = num\n",
        "  sum1 = 0\n",
        "\n",
        "  while(temp != 0):\n",
        "    r = temp % 10\n",
        "    sum1 = sum1 + power(r, n)\n",
        "    temp = temp // 10\n",
        "  \n",
        "  return (sum1 == num)\n",
        "\n",
        "if __name__ == \"__main__\":\n",
        "  num = int(input(\"Enter a number: \"))\n",
        "  print(isArmstrong(num))"
      ],
      "metadata": {
        "colab": {
          "base_uri": "https://localhost:8080/"
        },
        "id": "H8xcqqY0OGNZ",
        "outputId": "b71987b7-c35d-431f-c465-e8be859ca9e3"
      },
      "execution_count": 10,
      "outputs": [
        {
          "output_type": "stream",
          "name": "stdout",
          "text": [
            "Enter a number: 1634\n",
            "True\n"
          ]
        }
      ]
    },
    {
      "cell_type": "markdown",
      "source": [
        "### **5. Write a Python Program to Find Armstrong Number in an Interval?**"
      ],
      "metadata": {
        "id": "XJv7T_CDH3e7"
      }
    },
    {
      "cell_type": "code",
      "source": [
        "def power(b, p):\n",
        "  if p == 0:\n",
        "    return 1\n",
        "  if p % 2 == 0:\n",
        "    return power(b, p // 2) * power(b, p // 2)\n",
        "  return b * power(b, p // 2) * power(b, p // 2)\n",
        "\n",
        "def order(num):\n",
        "  n = 0\n",
        "\n",
        "  while(num != 0):\n",
        "    n += 1\n",
        "    num = num // 10\n",
        "  \n",
        "  return n\n",
        "\n",
        "def isArmstrong(num):\n",
        "  n = order(num)\n",
        "  temp = num\n",
        "  sum1 = 0\n",
        "\n",
        "  while(temp != 0):\n",
        "    r = temp % 10\n",
        "    sum1 = sum1 + power(r, n)\n",
        "    temp = temp // 10\n",
        "  \n",
        "  return (sum1 == num)\n",
        "\n",
        "if __name__ == \"__main__\":\n",
        "  print(\"Enter an interval: \")\n",
        "  s = int(input(\"Start: \"))\n",
        "  e = int(input(\"End: \"))\n",
        "\n",
        "  for i in range(s, e+1):\n",
        "    if isArmstrong(i):\n",
        "      print(i)"
      ],
      "metadata": {
        "colab": {
          "base_uri": "https://localhost:8080/"
        },
        "id": "C90bsiCiTjAv",
        "outputId": "4db1c5d6-56e5-47b7-b12e-84a828cb9112"
      },
      "execution_count": 12,
      "outputs": [
        {
          "output_type": "stream",
          "name": "stdout",
          "text": [
            "Enter an interval: \n",
            "Start: 100\n",
            "End: 10000\n",
            "153\n",
            "370\n",
            "371\n",
            "407\n",
            "1634\n",
            "8208\n",
            "9474\n"
          ]
        }
      ]
    },
    {
      "cell_type": "markdown",
      "source": [
        "### **6. Write a Python Program to Find the Sum of Natural Numbers?**"
      ],
      "metadata": {
        "id": "qAgkodhzH5j3"
      }
    },
    {
      "cell_type": "code",
      "source": [
        "def sum(num):\n",
        "  sum = 0\n",
        "  for i in range(1, num+1):\n",
        "    sum += i\n",
        "  return sum\n",
        "\n",
        "if __name__ == \"__main__\":\n",
        "  num = int(input(\"Enter a number: \"))\n",
        "  print(f'Sum of Natural numbers: {sum(num)}')"
      ],
      "metadata": {
        "colab": {
          "base_uri": "https://localhost:8080/"
        },
        "id": "6b0asSM7VJEW",
        "outputId": "25381b62-e66a-4bb5-ebce-e65c5d90db2f"
      },
      "execution_count": 13,
      "outputs": [
        {
          "output_type": "stream",
          "name": "stdout",
          "text": [
            "Enter a number: 10\n",
            "Sum of Natural numbers: 55\n"
          ]
        }
      ]
    }
  ]
}