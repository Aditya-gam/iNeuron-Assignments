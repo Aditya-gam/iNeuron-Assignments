{
  "nbformat": 4,
  "nbformat_minor": 0,
  "metadata": {
    "colab": {
      "provenance": [],
      "collapsed_sections": []
    },
    "kernelspec": {
      "name": "python3",
      "display_name": "Python 3"
    },
    "language_info": {
      "name": "python"
    }
  },
  "cells": [
    {
      "cell_type": "markdown",
      "source": [
        "1. Write a Python program to find words which are greater than given length k?"
      ],
      "metadata": {
        "id": "_a_uPRSZY9y6"
      }
    },
    {
      "cell_type": "code",
      "source": [
        "def stringGreaterThanK(str1, k):\n",
        "  str2 = []\n",
        "\n",
        "  text = str1.split(\" \")\n",
        "  for x in text:\n",
        "    if len(x) > k:\n",
        "      str2.append(x)\n",
        "  \n",
        "  return str2\n",
        "\n",
        "if __name__ == '__main__':\n",
        "  str1 = \"string is fun in python\"\n",
        "  k = int(input(\"Enter value of K: \"))\n",
        "\n",
        "  print(f\"New string: {stringGreaterThanK(str1, k)}\")"
      ],
      "metadata": {
        "colab": {
          "base_uri": "https://localhost:8080/"
        },
        "id": "1NBdgWghZUqN",
        "outputId": "ebc7c726-abd8-4b43-fd40-346d6875dc53"
      },
      "execution_count": null,
      "outputs": [
        {
          "output_type": "stream",
          "name": "stdout",
          "text": [
            "Enter value of K: 3\n",
            "New string: ['string', 'python']\n"
          ]
        }
      ]
    },
    {
      "cell_type": "markdown",
      "source": [
        "2. Write a Python program for removing i-th character from a string?"
      ],
      "metadata": {
        "id": "Mz4cPJtOZBQ6"
      }
    },
    {
      "cell_type": "code",
      "source": [
        "def removeIth(str1, i):\n",
        "  a = str1[:i]\n",
        "  b = str1[i+1:]\n",
        "\n",
        "  return a + b\n",
        "\n",
        "if __name__ == '__main__':\n",
        "  str1 = \"string is fun in python\"\n",
        "  i = int(input(\"Enter value of i: \"))\n",
        "\n",
        "  print(f\"Original string: {str1}\")\n",
        "  print(f\"New string: {removeIth(str1, i)}\")"
      ],
      "metadata": {
        "colab": {
          "base_uri": "https://localhost:8080/"
        },
        "id": "AN8PlLercwfg",
        "outputId": "f1519a70-5d2b-4ce0-8145-a0c4e244705b"
      },
      "execution_count": null,
      "outputs": [
        {
          "output_type": "stream",
          "name": "stdout",
          "text": [
            "Enter value of i: 4\n",
            "Original string: string is fun in python\n",
            "New string: strig is fun in python\n"
          ]
        }
      ]
    },
    {
      "cell_type": "markdown",
      "source": [
        "3. Write a Python program to split and join a string?"
      ],
      "metadata": {
        "id": "qfkksvU5ZC2M"
      }
    },
    {
      "cell_type": "code",
      "source": [
        "if __name__ == '__main__':\n",
        "  str1 = \"string is fun in python\"\n",
        "  print(f\"Original String: {str1}\")\n",
        "\n",
        "  split_str =  str1.split(\" \")\n",
        "  print(f\"Split String: {split_str}\")\n",
        "\n",
        "  join_str = \" \".join(split_str)\n",
        "  print(f\"Joined String: {join_str}\")"
      ],
      "metadata": {
        "colab": {
          "base_uri": "https://localhost:8080/"
        },
        "id": "Dyi_pwktzklJ",
        "outputId": "b20474d6-ec47-47dc-9bba-b09042e99b8d"
      },
      "execution_count": null,
      "outputs": [
        {
          "output_type": "stream",
          "name": "stdout",
          "text": [
            "Original String: string is fun in python\n",
            "Split String: ['string', 'is', 'fun', 'in', 'python']\n",
            "Joined String: string is fun in python\n"
          ]
        }
      ]
    },
    {
      "cell_type": "markdown",
      "source": [
        "4. Write a Python to check if a given string is binary string or not?"
      ],
      "metadata": {
        "id": "3Bd05vGwZFRh"
      }
    },
    {
      "cell_type": "code",
      "source": [
        "def checkBinary(str1):\n",
        "  s1 = set(str1)\n",
        "  s2 = {'0', '1'}\n",
        " \n",
        "  return s1 == s2 or s1 == {'0'} or s1 == {'1'}\n",
        "\n",
        "if __name__ == '__main__':\n",
        "  str1 = input(\"Enter a string: \")\n",
        "  if checkBinary(str1):\n",
        "    print(f\"{str1} is binary string\")\n",
        "  else:\n",
        "    print(f\"{str1} is not binary string\")"
      ],
      "metadata": {
        "colab": {
          "base_uri": "https://localhost:8080/"
        },
        "id": "Uu0wG7oqDLLe",
        "outputId": "8cd3a7a6-2027-4ff7-f025-8088ee442945"
      },
      "execution_count": 2,
      "outputs": [
        {
          "output_type": "stream",
          "name": "stdout",
          "text": [
            "Enter a string: 110011a\n",
            "110011a is not binary string\n"
          ]
        }
      ]
    },
    {
      "cell_type": "markdown",
      "source": [
        "5. Write a Python program to find uncommon words from two Strings?"
      ],
      "metadata": {
        "id": "BqQYiE0SZHZk"
      }
    },
    {
      "cell_type": "code",
      "source": [
        "def uncommonWords(str1, str2):\n",
        "  count ={}\n",
        "\n",
        "  for word in str1.split():\n",
        "    count[word] = count.get(word, 0) + 1\n",
        "  \n",
        "  for word in str2.split():\n",
        "    count[word] = count.get(word, 0) + 1\n",
        "\n",
        "  return [word for word in count if count[word] == 1]\n",
        "\n",
        "if __name__ == '__main__':\n",
        "  str1 = \"Python Program to Print uncommon\"\n",
        "  str2 = \"Find uncommon characters of the two strings\"\n",
        "\n",
        "  print(f\"Uncommon Words: {uncommonWords(str1, str2)}\")"
      ],
      "metadata": {
        "colab": {
          "base_uri": "https://localhost:8080/"
        },
        "id": "fW8tzCAVOSMF",
        "outputId": "7d60df5d-035b-4f7d-cc9e-541ac036243a"
      },
      "execution_count": 2,
      "outputs": [
        {
          "output_type": "stream",
          "name": "stdout",
          "text": [
            "Uncommon Words: ['Python', 'Program', 'to', 'Print', 'Find', 'characters', 'of', 'the', 'two', 'strings']\n"
          ]
        }
      ]
    },
    {
      "cell_type": "markdown",
      "source": [
        "6. Write a Python to find all duplicate characters in string?"
      ],
      "metadata": {
        "id": "rgAsbm7iZJQh"
      }
    },
    {
      "cell_type": "code",
      "source": [
        "def duplicateCharacters(str1):\n",
        "  count ={}\n",
        "\n",
        "  for word in str1:\n",
        "    if word != \" \":\n",
        "      count[word] = count.get(word, 0) + 1\n",
        "\n",
        "  return [word for word in count if count[word] > 1]\n",
        "\n",
        "if __name__ == '__main__':\n",
        "  str1 = \"Python Program to Print uncommon\"\n",
        "  # str2 = \"Find uncommon characters of the two strings\"\n",
        "\n",
        "  print(f\"Duplicate Characters: {duplicateCharacters(str1)}\")"
      ],
      "metadata": {
        "colab": {
          "base_uri": "https://localhost:8080/"
        },
        "id": "4CBQueRmZ1yR",
        "outputId": "62487504-b639-4d1f-c6bc-e796af5e97a8"
      },
      "execution_count": 4,
      "outputs": [
        {
          "output_type": "stream",
          "name": "stdout",
          "text": [
            "Duplicate Characters: ['P', 't', 'o', 'n', 'r', 'm']\n"
          ]
        }
      ]
    },
    {
      "cell_type": "markdown",
      "source": [
        "7. Write a Python Program to check if a string contains any special character?"
      ],
      "metadata": {
        "id": "i6ZQJfPQZLR4"
      }
    },
    {
      "cell_type": "code",
      "source": [
        "import re\n",
        "\n",
        "def isSpecial(str1):\n",
        "  regex = re.compile('[@_!#$%^&*()<>?/\\|}{~:]')\n",
        "\n",
        "  if regex.search(str1) == None:\n",
        "      print(\"String doesn't contain special characters\")\n",
        "         \n",
        "  else:\n",
        "      print(\"String contains special characters\")\n",
        "\n",
        "if __name__ == '__main__':\n",
        "  str1 = input(\"Enter a String: \")\n",
        "\n",
        "  isSpecial(str1)"
      ],
      "metadata": {
        "colab": {
          "base_uri": "https://localhost:8080/"
        },
        "id": "b6logb_EbaYj",
        "outputId": "9db79bc0-c2f8-4061-b918-46803d89090f"
      },
      "execution_count": 6,
      "outputs": [
        {
          "output_type": "stream",
          "name": "stdout",
          "text": [
            "Enter a String: asdfasf$#\n",
            "String contains special characters\n"
          ]
        }
      ]
    }
  ]
}