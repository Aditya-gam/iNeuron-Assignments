{
  "nbformat": 4,
  "nbformat_minor": 0,
  "metadata": {
    "colab": {
      "provenance": [],
      "collapsed_sections": []
    },
    "kernelspec": {
      "name": "python3",
      "display_name": "Python 3"
    },
    "language_info": {
      "name": "python"
    }
  },
  "cells": [
    {
      "cell_type": "markdown",
      "source": [
        "### **1. Write a Python Program to Display Fibonacci Sequence Using Recursion?**"
      ],
      "metadata": {
        "id": "MQh_ty0cDeVs"
      }
    },
    {
      "cell_type": "code",
      "source": [
        "def fib(n):\n",
        "  if n < 2:\n",
        "    return n\n",
        "  return fib(n-1) + fib(n-2)\n",
        "\n",
        "if __name__ == \"__main__\":\n",
        "  n = int(input(\"Enter the element number: \"))\n",
        "  print(\"Sequence: \", end=\"\")\n",
        "  for i in range(n):\n",
        "    print(fib(i), end=\" \")"
      ],
      "metadata": {
        "colab": {
          "base_uri": "https://localhost:8080/"
        },
        "id": "uMEcwuhsBmPa",
        "outputId": "e1532e8a-6e9e-4d80-fff5-39fc41ba52ff"
      },
      "execution_count": 6,
      "outputs": [
        {
          "output_type": "stream",
          "name": "stdout",
          "text": [
            "Enter the element number: 10\n",
            "Sequence: 0 1 1 2 3 5 8 13 21 34 "
          ]
        }
      ]
    },
    {
      "cell_type": "markdown",
      "source": [
        "### **2. Write a Python Program to Find Factorial of Number Using Recursion?**"
      ],
      "metadata": {
        "id": "uqJLhwDrDhVl"
      }
    },
    {
      "cell_type": "code",
      "source": [
        "def fact(n):\n",
        "  if n <= 1:\n",
        "    return 1\n",
        "  return n*fact(n-1)\n",
        "\n",
        "if __name__ == \"__main__\":\n",
        "  n = int(input(\"Enter a number: \"))\n",
        "  print(f\"Factorial of {n} is {fact(n)}\")"
      ],
      "metadata": {
        "colab": {
          "base_uri": "https://localhost:8080/"
        },
        "id": "iyx_futcJUFx",
        "outputId": "273b1aa0-7685-4533-dfc9-9785e72ab917"
      },
      "execution_count": 7,
      "outputs": [
        {
          "output_type": "stream",
          "name": "stdout",
          "text": [
            "Enter a number: 5\n",
            "Factorial of 5 is 120\n"
          ]
        }
      ]
    },
    {
      "cell_type": "markdown",
      "source": [
        "### **3. Write a Python Program to calculate your Body Mass Index?**"
      ],
      "metadata": {
        "id": "gZkxqcaNDl1c"
      }
    },
    {
      "cell_type": "code",
      "source": [
        "def BMI(height, weight):\n",
        "  return (weight/(height**2))\n",
        "\n",
        "if __name__ == \"__main__\":\n",
        "  weight = float(input(\"Enter your weight(in Kg): \"))\n",
        "  height = float(input(\"Enter your height(in Meters): \"))\n",
        "\n",
        "  bmi = BMI(height, weight)\n",
        "\n",
        "  if bmi <= 18.5:\n",
        "    print(f'Your BMI is {bmi} which means you are underweight.')\n",
        "\n",
        "  elif bmi > 18.5 and bmi < 25:\n",
        "    print(f'Your BMI is {bmi} which means you are normal.')\n",
        "\n",
        "  elif bmi > 25 and bmi < 30:\n",
        "    print(f'your BMI is {bmi} overweight.')\n",
        "\n",
        "  elif bmi > 30:\n",
        "    print(f'Your BMI is {bmi} which means you are obese.')\n",
        "\n",
        "  else:\n",
        "    print('There is an error with your input')"
      ],
      "metadata": {
        "colab": {
          "base_uri": "https://localhost:8080/"
        },
        "id": "0I2UdYYTKkUX",
        "outputId": "eaf2c8b3-977c-4622-cdc2-bc7af62ccc1f"
      },
      "execution_count": 9,
      "outputs": [
        {
          "output_type": "stream",
          "name": "stdout",
          "text": [
            "Enter your weight(in Kg): 120\n",
            "Enter your height(in Meters): 1.8\n",
            "Your BMI is 37.03703703703704 which means you are obese.\n"
          ]
        }
      ]
    },
    {
      "cell_type": "code",
      "source": [
        "import math\n",
        "math.e"
      ],
      "metadata": {
        "colab": {
          "base_uri": "https://localhost:8080/"
        },
        "id": "HVjFN6jfU7GX",
        "outputId": "1d82a87a-ba8b-4af7-ee4e-64838072a51f"
      },
      "execution_count": 12,
      "outputs": [
        {
          "output_type": "execute_result",
          "data": {
            "text/plain": [
              "2.718281828459045"
            ]
          },
          "metadata": {},
          "execution_count": 12
        }
      ]
    },
    {
      "cell_type": "markdown",
      "source": [
        "### **4. Write a Python Program to calculate the natural logarithm of any number?**"
      ],
      "metadata": {
        "id": "L3lCQZCpDsZn"
      }
    },
    {
      "cell_type": "code",
      "source": [
        "import math\n",
        "\n",
        "def naturalLog(n):\n",
        "  return math.log(n)\n",
        "\n",
        "if __name__ == \"__main__\":\n",
        "  n = int(input(\"Enter a number: \"))\n",
        "  print(f\"Natural Log of {n} is {naturalLog(n)}\")"
      ],
      "metadata": {
        "colab": {
          "base_uri": "https://localhost:8080/"
        },
        "id": "fLhvkzG2Rvok",
        "outputId": "ed832d07-2d7d-4f96-cf06-79986dd3db67"
      },
      "execution_count": 15,
      "outputs": [
        {
          "output_type": "stream",
          "name": "stdout",
          "text": [
            "Enter a number: 100\n",
            "Natural Log of 100 is 4.605170185988092\n"
          ]
        }
      ]
    },
    {
      "cell_type": "markdown",
      "source": [
        "### **5. Write a Python Program for cube sum of first n natural numbers?**"
      ],
      "metadata": {
        "id": "ukbORD7KDuvN"
      }
    },
    {
      "cell_type": "code",
      "source": [
        "def sumOfNaturalNumbers(n):\n",
        "  res = (n * (n + 1)  / 2)\n",
        "  return int(res**2)\n",
        "\n",
        "if __name__ == \"__main__\":\n",
        "  n = int(input(\"Enter a number: \"))\n",
        "  print(f\"Sum of cubes of first {n} natural numbers: {sumOfNaturalNumbers(n)}\")"
      ],
      "metadata": {
        "colab": {
          "base_uri": "https://localhost:8080/"
        },
        "id": "udAbmKHsZChY",
        "outputId": "a63dd4ee-2152-43df-f5f4-6006b8e349ce"
      },
      "execution_count": 16,
      "outputs": [
        {
          "output_type": "stream",
          "name": "stdout",
          "text": [
            "Enter a number: 7\n",
            "Sum of cubes of first 7 natural numbers: 784\n"
          ]
        }
      ]
    }
  ]
}