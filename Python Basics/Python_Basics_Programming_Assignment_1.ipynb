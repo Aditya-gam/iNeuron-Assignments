{
  "nbformat": 4,
  "nbformat_minor": 0,
  "metadata": {
    "colab": {
      "provenance": [],
      "collapsed_sections": []
    },
    "kernelspec": {
      "name": "python3",
      "display_name": "Python 3"
    },
    "language_info": {
      "name": "python"
    }
  },
  "cells": [
    {
      "cell_type": "markdown",
      "source": [
        "### **1.\tWrite a Python program to print \"Hello Python\"?**"
      ],
      "metadata": {
        "id": "GSn_6B-1bP7O"
      }
    },
    {
      "cell_type": "code",
      "source": [
        "print(\"Hello Python\")"
      ],
      "metadata": {
        "colab": {
          "base_uri": "https://localhost:8080/"
        },
        "id": "wsawM1JobcGZ",
        "outputId": "c100a111-0916-4d82-9908-fb54a5270b8a"
      },
      "execution_count": 1,
      "outputs": [
        {
          "output_type": "stream",
          "name": "stdout",
          "text": [
            "Hello Python\n"
          ]
        }
      ]
    },
    {
      "cell_type": "markdown",
      "source": [
        "### **2.\tWrite a Python program to do arithmetical operations addition and division.?**"
      ],
      "metadata": {
        "id": "E2l8fSRpbSAB"
      }
    },
    {
      "cell_type": "code",
      "source": [
        "def add(a, b):\n",
        "  return a + b\n",
        "\n",
        "def divide(a, b):\n",
        "  return a / b\n",
        "\n",
        "a = int(input(\"Enter Number 1: \"))\n",
        "b = int(input(\"Enter Number 2: \"))\n",
        "print(add(a, b))\n",
        "print(divide(a, b))"
      ],
      "metadata": {
        "colab": {
          "base_uri": "https://localhost:8080/"
        },
        "id": "8K1rcugnbfDs",
        "outputId": "480b595d-a33f-406e-f867-2211cfcc4a7a"
      },
      "execution_count": 3,
      "outputs": [
        {
          "output_type": "stream",
          "name": "stdout",
          "text": [
            "Enter Number 1: 3\n",
            "Enter Number 2: 6\n",
            "9\n",
            "0.5\n"
          ]
        }
      ]
    },
    {
      "cell_type": "markdown",
      "source": [
        "### **3.\tWrite a Python program to find the area of a triangle?**"
      ],
      "metadata": {
        "id": "5PNtSr5EbUN7"
      }
    },
    {
      "cell_type": "code",
      "source": [
        "def areaOfTriangle(base, height):\n",
        "  return 0.5 * base * height\n",
        "\n",
        "base = int(input(\"Enter base: \"))\n",
        "height = int(input(\"Enter Height: \"))\n",
        "\n",
        "print(areaOfTriangle(base, height))"
      ],
      "metadata": {
        "colab": {
          "base_uri": "https://localhost:8080/"
        },
        "id": "ymTfS7GXcQpF",
        "outputId": "18706fd6-8a04-440a-ed32-92ae7b312177"
      },
      "execution_count": 5,
      "outputs": [
        {
          "output_type": "stream",
          "name": "stdout",
          "text": [
            "Enter base: 3\n",
            "Enter Height: 4\n",
            "6.0\n"
          ]
        }
      ]
    },
    {
      "cell_type": "markdown",
      "source": [
        "### **4.\tWrite a Python program to swap two variables?**"
      ],
      "metadata": {
        "id": "yAMtOyaDbV_e"
      }
    },
    {
      "cell_type": "code",
      "source": [
        "a = 3\n",
        "b = 4\n",
        "a, b = b, a\n",
        "print(f\"{a} , {b}\")"
      ],
      "metadata": {
        "colab": {
          "base_uri": "https://localhost:8080/"
        },
        "id": "jTDBW8u2c2NM",
        "outputId": "9e285f7a-63df-4e0d-dfa6-fec90cf15d5f"
      },
      "execution_count": 6,
      "outputs": [
        {
          "output_type": "stream",
          "name": "stdout",
          "text": [
            "4 , 3\n"
          ]
        }
      ]
    },
    {
      "cell_type": "markdown",
      "source": [
        "### **5.\tWrite a Python program to generate a random number?**"
      ],
      "metadata": {
        "id": "pYjbRzbMbXoP"
      }
    },
    {
      "cell_type": "code",
      "source": [
        "import random\n",
        "def randomGenerator(s, e):\n",
        "  return random.randint(s, e)\n",
        "\n",
        "print(\"Enter range: \")\n",
        "s = int(input())\n",
        "e = int(input())\n",
        "print(f\"Number: {randomGenerator(s, e)}\")"
      ],
      "metadata": {
        "colab": {
          "base_uri": "https://localhost:8080/"
        },
        "id": "UBkLR-cAduUn",
        "outputId": "754e68ca-0843-44ec-d54f-724a636599d5"
      },
      "execution_count": 10,
      "outputs": [
        {
          "output_type": "stream",
          "name": "stdout",
          "text": [
            "Enter range: \n",
            "1\n",
            "20\n",
            "Number: 9\n"
          ]
        }
      ]
    }
  ]
}