{
  "nbformat": 4,
  "nbformat_minor": 0,
  "metadata": {
    "colab": {
      "provenance": []
    },
    "kernelspec": {
      "name": "python3",
      "display_name": "Python 3"
    },
    "language_info": {
      "name": "python"
    }
  },
  "cells": [
    {
      "cell_type": "markdown",
      "source": [
        "### **1. How do you distinguish between shutil.copy() and shutil.copytree()?**"
      ],
      "metadata": {
        "id": "B9gjlzXgWBwj"
      }
    },
    {
      "cell_type": "markdown",
      "source": [
        "* shutil. copy() will copy a single file, shutil. copytree() will copy an entire folder and every folder and file contained in it."
      ],
      "metadata": {
        "id": "nuQCxMLsYF5u"
      }
    },
    {
      "cell_type": "markdown",
      "source": [
        "### **2. What function is used to rename files?**"
      ],
      "metadata": {
        "id": "ALQ5SEF_WC4C"
      }
    },
    {
      "cell_type": "markdown",
      "source": [
        "* Use the mv command to move files and directories from one directory to another or to rename a file or directory."
      ],
      "metadata": {
        "id": "gu2evUvcYQu9"
      }
    },
    {
      "cell_type": "markdown",
      "source": [
        "### **3. What is the difference between the delete functions in the send2trash and shutil modules?**"
      ],
      "metadata": {
        "id": "ctXS2yrCWGd0"
      }
    },
    {
      "cell_type": "markdown",
      "source": [
        "* The send2trash functions will move a file or folder to the recycle bin, while shutil functions will permanently delete files and folders."
      ],
      "metadata": {
        "id": "vkac48UUYhL3"
      }
    },
    {
      "cell_type": "markdown",
      "source": [
        "### **4. ZipFile objects have a close() method just like File objects’ close() method. What ZipFile method is equivalent to File objects’ open() method?**"
      ],
      "metadata": {
        "id": "jn_fc72IWItJ"
      }
    },
    {
      "cell_type": "markdown",
      "source": [
        "* The zipfile. ZipFile() function is equivalent to the open() function; the first argument is the filename, and the second argument is the mode to open the ZIP file in."
      ],
      "metadata": {
        "id": "CDJm2Z0oZtdW"
      }
    },
    {
      "cell_type": "markdown",
      "source": [
        "### **5. Create a programme that searches a folder tree for files with a certain file extension (such as .pdf or .jpg). Copy these files from whatever location they are in to a new folder.**"
      ],
      "metadata": {
        "id": "jMHaPSpDWOif"
      }
    },
    {
      "cell_type": "code",
      "source": [
        "import os, shutil\n",
        "\n",
        "def selectiveCopy(folder, extensions, destFolder):\n",
        "\tfolder = os.path.abspath(folder)\n",
        "\tdestFolder = os.path.abspath(destFolder)\n",
        "\tprint('Looking in', folder, 'for files with extensions of', ', '.join(extensions))\n",
        " \n",
        "\tfor foldername, subfolders, filenames in os.walk(folder):\n",
        "\t\tfor filename in filenames:\n",
        "\t\t\tname, extension = os.path.splitext(filename)\n",
        "\t\t\tif extension in extensions:\n",
        "\t\t\t\tfileAbsPath = foldername + os.path.sep + filename\n",
        "\t\t\t\tprint('Coping', fileAbsPath, 'to', destFolder)\n",
        "\t\t\t\tshutil.copy(fileAbsPath, destFolder)\n",
        "\n",
        "extensions = ['.pdf', '.jpg']\n",
        "folder = 'randomFolder'\n",
        "destFolder = 'selectiveFolder'\n",
        "selectiveCopy(folder, extensions, destFolder)"
      ],
      "metadata": {
        "colab": {
          "base_uri": "https://localhost:8080/"
        },
        "id": "o8avJKCoa1EH",
        "outputId": "c7cd7b44-2a2c-4d56-b4f5-4ae56c979721"
      },
      "execution_count": null,
      "outputs": [
        {
          "output_type": "stream",
          "name": "stdout",
          "text": [
            "Looking in /content/randomFolder for files with extensions of .pdf, .jpg\n"
          ]
        }
      ]
    }
  ]
}