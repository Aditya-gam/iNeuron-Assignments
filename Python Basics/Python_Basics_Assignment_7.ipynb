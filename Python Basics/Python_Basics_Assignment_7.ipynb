{
  "nbformat": 4,
  "nbformat_minor": 0,
  "metadata": {
    "colab": {
      "provenance": []
    },
    "kernelspec": {
      "name": "python3",
      "display_name": "Python 3"
    },
    "language_info": {
      "name": "python"
    }
  },
  "cells": [
    {
      "cell_type": "markdown",
      "source": [
        "### **1. What is the name of the feature responsible for generating Regex objects?**"
      ],
      "metadata": {
        "id": "bmgWaR9lc08r"
      }
    },
    {
      "cell_type": "markdown",
      "source": [
        "* The re.compile() function returns Regex objects."
      ],
      "metadata": {
        "id": "VBhWIbXbPMuc"
      }
    },
    {
      "cell_type": "markdown",
      "source": [
        "### **2. Why do raw strings often appear in Regex objects?**"
      ],
      "metadata": {
        "id": "5HEW8Ny_c4fi"
      }
    },
    {
      "cell_type": "markdown",
      "source": [
        "* Raw strings are used so that backslashes do not have to be escaped."
      ],
      "metadata": {
        "id": "kq-Um5DZZA9V"
      }
    },
    {
      "cell_type": "markdown",
      "source": [
        "### **3. What is the return value of the search() method?**"
      ],
      "metadata": {
        "id": "vDvBUv0JdAk-"
      }
    },
    {
      "cell_type": "markdown",
      "source": [
        "* The search() method returns -1 if no match is found."
      ],
      "metadata": {
        "id": "kCDJyeG2ZKon"
      }
    },
    {
      "cell_type": "markdown",
      "source": [
        "### **4. From a Match item, how do you get the actual strings that match the pattern?**"
      ],
      "metadata": {
        "id": "7iL4Fa4ldFUN"
      }
    },
    {
      "cell_type": "markdown",
      "source": [
        "* Import the regex module with import re.\n",
        "* Create a Regex object with the re.\n",
        "* Pass the string you want to search into the Regex object's search() method.\n",
        "* Call the Match object's group() method to return a string of the actual matched text."
      ],
      "metadata": {
        "id": "YJDX0T6CtH-2"
      }
    },
    {
      "cell_type": "markdown",
      "source": [
        "### **5. In the regex which created from the r'(\\d\\d\\d)-(\\d\\d\\d-\\d\\d\\d\\d)', what does group zero cover? Group 2? Group 1?**"
      ],
      "metadata": {
        "id": "At-931bxdTxr"
      }
    },
    {
      "cell_type": "markdown",
      "source": [
        "* Group 0 is the entire match, group 1 covers the first set of parentheses, and group 2 covers the second set of parentheses."
      ],
      "metadata": {
        "id": "2nHKWVrXvvmP"
      }
    },
    {
      "cell_type": "markdown",
      "source": [
        "### **6. In standard expression syntax, parentheses and intervals have distinct meanings. How can you tell a regex that you want it to fit real parentheses and periods?**"
      ],
      "metadata": {
        "id": "a-N5sOO2djy_"
      }
    },
    {
      "cell_type": "markdown",
      "source": [
        "* Periods and parentheses can be escaped with a backslash: \\"
      ],
      "metadata": {
        "id": "9N8IUgE1wZa9"
      }
    },
    {
      "cell_type": "markdown",
      "source": [
        "### **7. The findall() method returns a string list or a list of string tuples. What causes it to return one of the two options?**"
      ],
      "metadata": {
        "id": "6o8iZ77kdp09"
      }
    },
    {
      "cell_type": "markdown",
      "source": [
        "* If the regex has no groups, a list of strings is returned. If the regex has groups, a list of tuples of strings is returned."
      ],
      "metadata": {
        "id": "jsve0goWxWFK"
      }
    },
    {
      "cell_type": "markdown",
      "source": [
        "### **8. In standard expressions, what does the | character mean?**"
      ],
      "metadata": {
        "id": "qEiXCxQIegj-"
      }
    },
    {
      "cell_type": "markdown",
      "source": [
        "* Vertical Bar ( | ) : Matches any one element separated by the vertical bar (|) character."
      ],
      "metadata": {
        "id": "hr148626xuF_"
      }
    },
    {
      "cell_type": "markdown",
      "source": [
        "## **9. In regular expressions, what does the character stand for?**"
      ],
      "metadata": {
        "id": "aZ7gtBpPejI1"
      }
    },
    {
      "cell_type": "markdown",
      "source": [
        "* A character set is an explicit list of the characters that may qualify for a match in a search. A character set is indicated by enclosing a set of characters in brackets."
      ],
      "metadata": {
        "id": "YDXSaj-iz0DT"
      }
    },
    {
      "cell_type": "markdown",
      "source": [
        "### **10. In regular expressions, what is the difference between the + and * characters?**"
      ],
      "metadata": {
        "id": "C29yTZL9el-s"
      }
    },
    {
      "cell_type": "markdown",
      "source": [
        "* Each of them are quantifiers, the star quantifier( * ) means that the preceding expression can match zero or more times it is like {0,} while the plus quantifier( + ) indicate that the preceding expression MUST match at least one time or multiple times and it is the same as {1,} ."
      ],
      "metadata": {
        "id": "usAPmz1r0ZsW"
      }
    },
    {
      "cell_type": "markdown",
      "source": [
        "### **11. What is the difference between {4} and {4,5} in regular expression?**"
      ],
      "metadata": {
        "id": "2g8uw15oewFl"
      }
    },
    {
      "cell_type": "markdown",
      "source": [
        "* The {4} matches exactly four instances of the preceding group. The {4,5} matches between four and five instances."
      ],
      "metadata": {
        "id": "tyYlVJ4s1S0R"
      }
    },
    {
      "cell_type": "markdown",
      "source": [
        "### **12. What do you mean by the \\d, \\w, and \\s shorthand character classes signify in regular expressions?**"
      ],
      "metadata": {
        "id": "SWQdDhL5ezYB"
      }
    },
    {
      "cell_type": "markdown",
      "source": [
        "* The \\D, \\W, and \\S shorthand character classes match a single character that contains a digit, word, or space character, respectively."
      ],
      "metadata": {
        "id": "DYNzmpeQ2fXw"
      }
    },
    {
      "cell_type": "markdown",
      "source": [
        "### **13. What do means by \\D, \\W, and \\S shorthand character classes signify in regular expressions?**"
      ],
      "metadata": {
        "id": "Fp1oHYZ-e953"
      }
    },
    {
      "cell_type": "markdown",
      "source": [
        "* The \\D, \\W, and \\S shorthand character classes match a single character that is not a digit, word, or space character, respectively."
      ],
      "metadata": {
        "id": "QRluwFiw5WKr"
      }
    },
    {
      "cell_type": "markdown",
      "source": [
        "### **14. What is the difference between .*? and .*?**\n",
        "\n",
        "---\n",
        "\n"
      ],
      "metadata": {
        "id": "iaQVEy0SfFU6"
      }
    },
    {
      "cell_type": "markdown",
      "source": [
        "* The first(.*?) expression indicates one or more symbols. The second(.*) is for zero or more symbols."
      ],
      "metadata": {
        "id": "aiIf8KyUeMb1"
      }
    },
    {
      "cell_type": "markdown",
      "source": [
        "### **15. What is the syntax for matching both numbers and lowercase letters with a character class?**"
      ],
      "metadata": {
        "id": "pqThifHmfKiv"
      }
    },
    {
      "cell_type": "markdown",
      "source": [
        "* the character class [a-z0-9] will match all lowercase letters and numbers."
      ],
      "metadata": {
        "id": "9fXWOSJU6Fc3"
      }
    },
    {
      "cell_type": "markdown",
      "source": [
        "### **16. What is the procedure for making a normal expression in regax case insensitive?**"
      ],
      "metadata": {
        "id": "5OYHzZujfOss"
      }
    },
    {
      "cell_type": "markdown",
      "source": [
        "* IGNORECASE : This flag allows for case-insensitive matching of the Regular Expression with the given string i.e. expressions like [A-Z] will match lowercase letters, too. Generally, It's passed as an optional argument to re. compile() ."
      ],
      "metadata": {
        "id": "JCmZx9lJNzDy"
      }
    },
    {
      "cell_type": "markdown",
      "source": [
        "### **17. What does the . character normally match? What does it match if re.DOTALL is passed as 2nd argument in re.compile()?**"
      ],
      "metadata": {
        "id": "yWHbDsNMfU36"
      }
    },
    {
      "cell_type": "markdown",
      "source": [
        "* character normally matches any character except the newline character. If re. DOTALL is passed as the second argument to re. compile(), then the dot will also match newline characters."
      ],
      "metadata": {
        "id": "k3nUssaqOCCJ"
      }
    },
    {
      "cell_type": "markdown",
      "source": [
        "### **18. If numReg = re.compile(r'\\d+'), what will numRegex.sub('', '11 drummers, 10 pipers, five rings, 4 hen') return?**"
      ],
      "metadata": {
        "id": "TvnaobaMfaVj"
      }
    },
    {
      "cell_type": "markdown",
      "source": [
        " * drummers,  pipers, five rings,  hen"
      ],
      "metadata": {
        "id": "decJzTMdO7L6"
      }
    },
    {
      "cell_type": "code",
      "source": [
        "import re\n",
        "numReg = re.compile(r'\\d+')\n",
        "numReg.sub('', '11 drummers, 10 pipers, five rings, 4 hen')"
      ],
      "metadata": {
        "colab": {
          "base_uri": "https://localhost:8080/",
          "height": 36
        },
        "id": "5wFgi40yOlW8",
        "outputId": "146e652d-1147-46a2-9808-64f0ee8f40ce"
      },
      "execution_count": 3,
      "outputs": [
        {
          "output_type": "execute_result",
          "data": {
            "text/plain": [
              "' drummers,  pipers, five rings,  hen'"
            ],
            "application/vnd.google.colaboratory.intrinsic+json": {
              "type": "string"
            }
          },
          "metadata": {},
          "execution_count": 3
        }
      ]
    },
    {
      "cell_type": "markdown",
      "source": [
        "### **19. What does passing re.VERBOSE as the 2nd argument to re.compile() allow to do?**"
      ],
      "metadata": {
        "id": "a_xCwDLQfnVx"
      }
    },
    {
      "cell_type": "markdown",
      "source": [
        "* The re. VERBOSE argument allows you to add whitespace and comments to the string passed to re."
      ],
      "metadata": {
        "id": "Y0gklid0PYq-"
      }
    },
    {
      "cell_type": "markdown",
      "source": [
        "### **20. How would you write a regex that match a number with comma for every three digits? It must match the given following:**\n",
        "### **'42'**\n",
        "### **'1,234'**\n",
        "### **'6,368,745'**\n",
        "\n",
        "### **but not the following:**\n",
        "### **'12,34,567' (which has only two digits between the commas)**\n",
        "### **'1234' (which lacks commas)**"
      ],
      "metadata": {
        "id": "_x77c8tSfsRp"
      }
    },
    {
      "cell_type": "markdown",
      "source": [
        "* ^\\d{1,3}(?:,\\d{3})*$"
      ],
      "metadata": {
        "id": "EDCob712ZQXW"
      }
    },
    {
      "cell_type": "code",
      "source": [
        "x = re.compile(r'^\\d{1,3}(?:,\\d{3})*$')\n",
        "if re.fullmatch(x, '1234'):\n",
        "  print('yes')\n",
        "else: \n",
        "  print('no')"
      ],
      "metadata": {
        "colab": {
          "base_uri": "https://localhost:8080/"
        },
        "id": "nLM1m6xuX--G",
        "outputId": "e0c251b1-e468-4e8a-bbe8-4d7536a5d7c3"
      },
      "execution_count": 10,
      "outputs": [
        {
          "output_type": "stream",
          "name": "stdout",
          "text": [
            "no\n"
          ]
        }
      ]
    },
    {
      "cell_type": "markdown",
      "source": [
        "### **21. How would you write a regex that matches the full name of someone whose last name is Watanabe? You can assume that the first name that comes before it will always be one word that begins with a capital letter. The regex must match the following:**\n",
        "### **&#39;Haruto Watanabe&#39;**\n",
        "### **&#39;Alice Watanabe&#39;**\n",
        "### **&#39;RoboCop Watanabe&#39;**\n",
        "### **but not the following:**\n",
        "### **&#39;haruto Watanabe&#39; (where the first name is not capitalized)**\n",
        "### **&#39;Mr. Watanabe&#39; (where the preceding word has a nonletter character)**\n",
        "### **&#39;Watanabe&#39; (which has no first name)**\n",
        "### **&#39;Haruto watanabe&#39; (where Watanabe is not capitalized)**"
      ],
      "metadata": {
        "id": "sjUFGeA3hGrB"
      }
    },
    {
      "cell_type": "markdown",
      "source": [
        "* \\b[A-Z][a-zA-Z]+\\sWatanabe"
      ],
      "metadata": {
        "id": "1DwjslFJdkig"
      }
    },
    {
      "cell_type": "code",
      "source": [
        "x = re.compile(r'\\b[A-Z][a-zA-Z]+\\sWatanabe')\n",
        "if re.fullmatch(x, 'Haruto watanabe'):\n",
        "  print('yes')\n",
        "else: \n",
        "  print('no')"
      ],
      "metadata": {
        "colab": {
          "base_uri": "https://localhost:8080/"
        },
        "id": "SVHOpPVcbylW",
        "outputId": "f578bcca-0b47-4525-f466-53e262c3ae34"
      },
      "execution_count": 18,
      "outputs": [
        {
          "output_type": "stream",
          "name": "stdout",
          "text": [
            "no\n"
          ]
        }
      ]
    },
    {
      "cell_type": "markdown",
      "source": [
        "### **22. How would you write a regex that matches a sentence where the first word is either Alice, Bob, or Carol; the second word is either eats, pets, or throws; the third word is apples, cats, or baseballs; and the sentence ends with a period? This regex should be case-insensitive. It must match the following:**\n",
        "### **&#39;Alice eats apples.&#39;**\n",
        "### **&#39;Bob pets cats.&#39;**\n",
        "### **&#39;Carol throws baseballs.&#39;**\n",
        "### **&#39;Alice throws Apples.&#39;**\n",
        "### **&#39;BOB EATS CATS.&#39;**\n",
        "### **but not the following:**\n",
        "### **&#39;RoboCop eats apples.&#39;**\n",
        "### **&#39;ALICE THROWS FOOTBALLS.&#39;**\n",
        "### **&#39;Carol eats 7 cats.&#39;**"
      ],
      "metadata": {
        "id": "gv20fqNnhgOg"
      }
    },
    {
      "cell_type": "markdown",
      "source": [
        "* (Alice|Bob|Carol)\\s+(eats|pets|throws)\\s+(apples|cats|baseballs)\\."
      ],
      "metadata": {
        "id": "a6QqdwXqduDt"
      }
    },
    {
      "cell_type": "code",
      "source": [
        "x = re.compile(r'(Alice|Bob|Carol)\\s+(eats|pets|throws)\\s+(apples|cats|baseballs)\\.', re.IGNORECASE)\n",
        "if re.fullmatch(x, 'RoboCop eats apples.'):\n",
        "  print('yes')\n",
        "else: \n",
        "  print('no')"
      ],
      "metadata": {
        "colab": {
          "base_uri": "https://localhost:8080/"
        },
        "id": "BVuI9eMPc5iW",
        "outputId": "a8b6f505-71ff-4e08-aaeb-d714345bbac3"
      },
      "execution_count": 22,
      "outputs": [
        {
          "output_type": "stream",
          "name": "stdout",
          "text": [
            "no\n"
          ]
        }
      ]
    }
  ]
}