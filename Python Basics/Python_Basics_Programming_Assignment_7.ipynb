{
  "nbformat": 4,
  "nbformat_minor": 0,
  "metadata": {
    "colab": {
      "provenance": []
    },
    "kernelspec": {
      "name": "python3",
      "display_name": "Python 3"
    },
    "language_info": {
      "name": "python"
    }
  },
  "cells": [
    {
      "cell_type": "markdown",
      "source": [
        "### **1. Write a Python Program to find sum of array?**"
      ],
      "metadata": {
        "id": "U0NPua4ugRnd"
      }
    },
    {
      "cell_type": "code",
      "execution_count": 1,
      "metadata": {
        "colab": {
          "base_uri": "https://localhost:8080/"
        },
        "id": "xiogM03ychl4",
        "outputId": "75413e75-003a-41da-9712-c056c14463b5"
      },
      "outputs": [
        {
          "output_type": "stream",
          "name": "stdout",
          "text": [
            "Enter size of array: 5\n",
            "Enter a number: 1\n",
            "Enter a number: 2\n",
            "Enter a number: 3\n",
            "Enter a number: 4\n",
            "Enter a number: 5\n",
            "Sum of elements of array: 15\n",
            "Sum of elements of array: 15\n"
          ]
        }
      ],
      "source": [
        "def arrSum(arr):\n",
        "  sum = 0\n",
        "  for i in arr:\n",
        "    sum += i\n",
        "  return sum\n",
        "\n",
        "if __name__ == \"__main__\":\n",
        "  s = int(input(\"Enter size of array: \"))\n",
        "  arr = []\n",
        "  for i in range(s):\n",
        "    arr.append(int(input(\"Enter a number: \")))\n",
        "  \n",
        "  print(f\"Sum of elements of array: {arrSum(arr)}\")\n",
        "  print(f\"Sum of elements of array: {sum(arr)}\")\n"
      ]
    },
    {
      "cell_type": "markdown",
      "source": [
        "### **2. Write a Python Program to find largest element in an array?**"
      ],
      "metadata": {
        "id": "9zj1S1AOgVKu"
      }
    },
    {
      "cell_type": "code",
      "source": [
        "def largestElem(arr):\n",
        "  max_elem = arr[0]\n",
        "  for i in arr:\n",
        "    if i > max_elem:\n",
        "      max_elem = i\n",
        "  \n",
        "  return max_elem\n",
        "\n",
        "if __name__ == \"__main__\":\n",
        "  s = int(input(\"Enter size of array: \"))\n",
        "  arr = []\n",
        "  for i in range(s):\n",
        "    arr.append(int(input(\"Enter a number: \")))\n",
        "  \n",
        "  arr.sort()\n",
        "  print(f\"Largest element in array: {largestElem(arr)}\")\n",
        "  print(f\"Largest element in array: {max(arr)}\")\n",
        "  print(f\"Largest element in array: {arr[-1]}\")"
      ],
      "metadata": {
        "colab": {
          "base_uri": "https://localhost:8080/"
        },
        "id": "BqvGRcY1gXrz",
        "outputId": "6c693adc-a404-4e8c-e1b1-341bbbb7abb7"
      },
      "execution_count": 3,
      "outputs": [
        {
          "output_type": "stream",
          "name": "stdout",
          "text": [
            "Enter size of array: 5\n",
            "Enter a number: 34\n",
            "Enter a number: 76\n",
            "Enter a number: 123\n",
            "Enter a number: 523\n",
            "Enter a number: 126\n",
            "Largest element in array: 523\n",
            "Largest element in array: 523\n",
            "Largest element in array: 523\n"
          ]
        }
      ]
    },
    {
      "cell_type": "markdown",
      "source": [
        "### **3. Write a Python Program for array rotation?**"
      ],
      "metadata": {
        "id": "RxNXNkEdgYB4"
      }
    },
    {
      "cell_type": "code",
      "source": [
        "def rotateArray(arr, d):\n",
        "  n = len(arr)\n",
        "\n",
        "  arr[:] = arr[d:n] + arr[0:d]\n",
        "  return arr\n",
        "\n",
        "if __name__ == \"__main__\":\n",
        "  s = int(input(\"Enter size of array: \"))\n",
        "  arr = []\n",
        "  for i in range(s):\n",
        "    arr.append(int(input(\"Enter a number: \")))\n",
        "  \n",
        "  d = int(input(\"Enter how many times to rotate the array: \"))\n",
        "\n",
        "  print(f\"Rotated Array: {rotateArray(arr, d)}\")"
      ],
      "metadata": {
        "colab": {
          "base_uri": "https://localhost:8080/"
        },
        "id": "injkvZkNgb-l",
        "outputId": "b6d8eaa4-71d7-47c1-aa9b-857f9429734c"
      },
      "execution_count": 4,
      "outputs": [
        {
          "output_type": "stream",
          "name": "stdout",
          "text": [
            "Enter size of array: 5\n",
            "Enter a number: 1\n",
            "Enter a number: 2\n",
            "Enter a number: 3\n",
            "Enter a number: 4\n",
            "Enter a number: 5\n",
            "Enter how many times to rotate the array: 2\n",
            "Rotated Array: [3, 4, 5, 1, 2]\n"
          ]
        }
      ]
    },
    {
      "cell_type": "markdown",
      "source": [
        "### **4. Write a Python Program to Split the array and add the first part to the end?**"
      ],
      "metadata": {
        "id": "YtGC80_-gcLd"
      }
    },
    {
      "cell_type": "code",
      "source": [
        "def splitArray(arr, k): \n",
        "  a = arr[:k]\n",
        "  return (arr[k::]+a[::])\n",
        "  \n",
        "if __name__ == \"__main__\":\n",
        "  s = int(input(\"Enter size of array: \"))\n",
        "  arr = []\n",
        "  for i in range(s):\n",
        "    arr.append(int(input(\"Enter a number: \")))\n",
        "  \n",
        "  d = int(input(\"Enter the element where to split the array : \"))\n",
        "\n",
        "  print(f\"New Array: {splitArray(arr, d)}\")"
      ],
      "metadata": {
        "colab": {
          "base_uri": "https://localhost:8080/"
        },
        "id": "gStImEqwget9",
        "outputId": "935faab2-6386-4fbe-f388-9390e747584e"
      },
      "execution_count": 5,
      "outputs": [
        {
          "output_type": "stream",
          "name": "stdout",
          "text": [
            "Enter size of array: 5\n",
            "Enter a number: 1\n",
            "Enter a number: 2\n",
            "Enter a number: 3\n",
            "Enter a number: 4\n",
            "Enter a number: 5\n",
            "Enter the element where to split the array : 3\n",
            "New Array: [4, 5, 1, 2, 3]\n"
          ]
        }
      ]
    },
    {
      "cell_type": "markdown",
      "source": [
        "### **5. Write a Python Program to check if given array is Monotonic?**"
      ],
      "metadata": {
        "id": "w-5bMWfuge--"
      }
    },
    {
      "cell_type": "code",
      "source": [
        "def isMonotonic(arr):\n",
        "    return (all(arr[i] <= arr[i + 1] for i in range(len(arr) - 1)) or all(arr[i] >= arr[i + 1] for i in range(len(arr) - 1)))\n",
        "\n",
        "if __name__ == \"__main__\":\n",
        "  s = int(input(\"Enter size of array: \"))\n",
        "  arr = []\n",
        "  for i in range(s):\n",
        "    arr.append(int(input(\"Enter a number: \")))\n",
        "  \n",
        "  print(f\"{arr} is monotonic: {isMonotonic(arr)}\")"
      ],
      "metadata": {
        "colab": {
          "base_uri": "https://localhost:8080/"
        },
        "id": "FnOaecn7girs",
        "outputId": "261cabc7-4018-4759-870d-20d93d2059c5"
      },
      "execution_count": 11,
      "outputs": [
        {
          "output_type": "stream",
          "name": "stdout",
          "text": [
            "Enter size of array: 5\n",
            "Enter a number: 1\n",
            "Enter a number: 3\n",
            "Enter a number: 2\n",
            "Enter a number: 4\n",
            "Enter a number: 5\n",
            "[1, 3, 2, 4, 5] is monotonic: False\n"
          ]
        }
      ]
    }
  ]
}