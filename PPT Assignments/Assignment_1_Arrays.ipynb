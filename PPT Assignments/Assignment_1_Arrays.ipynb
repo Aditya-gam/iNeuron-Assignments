{
  "nbformat": 4,
  "nbformat_minor": 0,
  "metadata": {
    "colab": {
      "provenance": []
    },
    "kernelspec": {
      "name": "python3",
      "display_name": "Python 3"
    },
    "language_info": {
      "name": "python"
    }
  },
  "cells": [
    {
      "cell_type": "markdown",
      "source": [
        "### **Q1. Given an array of integers nums and an integer target, return indices of the two numbers such that they add up to target.**\n",
        "\n",
        "### **You may assume that each input would have exactly one solution, and you may not use the same element twice.**\n",
        "\n",
        "### **You can return the answer in any order.**\n",
        "\n"
      ],
      "metadata": {
        "id": "C-KxwwG00K7B"
      }
    },
    {
      "cell_type": "code",
      "execution_count": 3,
      "metadata": {
        "colab": {
          "base_uri": "https://localhost:8080/"
        },
        "id": "rd4H0mqK0DHP",
        "outputId": "c15add7d-2d16-4746-9b9f-4a985f85f596"
      },
      "outputs": [
        {
          "output_type": "stream",
          "name": "stdout",
          "text": [
            "[1, 0]\n"
          ]
        }
      ],
      "source": [
        "def twoSum(nums, target):\n",
        "  seen = {}\n",
        "  for i in range(len(nums)):\n",
        "    if seen.get((target-nums[i]),-1) != -1:\n",
        "      return [i, seen[target - nums[i]]]\n",
        "    seen[nums[i]] = i\n",
        "\n",
        "print(twoSum([2,7,11,15], 9))"
      ]
    },
    {
      "cell_type": "markdown",
      "source": [
        "## **Q2 Given an integer array nums and an integer val, remove all occurrences of val in nums in-place. The order of the elements may be changed. Then return the number of elements in nums which are not equal to val.**\n",
        "\n",
        "## **Consider the number of elements in nums which are not equal to val be k, to get accepted, you need to do the following things:**\n",
        "\n",
        "## **Change the array nums such that the first k elements of nums contain the elements which are not equal to val. The remaining elements of nums are not important as well as the size of nums.**\n",
        "## **Return k.**"
      ],
      "metadata": {
        "id": "avQpRBZy2I16"
      }
    },
    {
      "cell_type": "code",
      "source": [
        "def removeElement(nums, val):\n",
        "  k = 0  # variable to keep track of the number of elements not equal to val\n",
        "    \n",
        "  for i in range(len(nums)):\n",
        "    if nums[i] != val:\n",
        "      nums[k] = nums[i]  # overwrite the element at index k with the element not equal to val\n",
        "      k += 1  # increment k\n",
        "    \n",
        "  return k  # return the number of elements not equal to val\n",
        "\n",
        "print(removeElement([3,2,2,3], 3))"
      ],
      "metadata": {
        "colab": {
          "base_uri": "https://localhost:8080/"
        },
        "id": "UhjoTqes2FbM",
        "outputId": "8418aff5-3124-4513-bc0d-4c029d8a6c66"
      },
      "execution_count": 4,
      "outputs": [
        {
          "output_type": "stream",
          "name": "stdout",
          "text": [
            "2\n"
          ]
        }
      ]
    },
    {
      "cell_type": "markdown",
      "source": [
        "## **Q3. Given a sorted array of distinct integers and a target value, return the index if the target is found. If not, return the index where it would be if it were inserted in order.**\n",
        "\n",
        "## **You must write an algorithm with O(log n) runtime complexity.**"
      ],
      "metadata": {
        "id": "XIlhZ7Hv4Y92"
      }
    },
    {
      "cell_type": "code",
      "source": [
        "def searchInsert(nums, target):\n",
        "  left = 0  # left pointer\n",
        "  right = len(nums) - 1  # right pointer\n",
        "\n",
        "  while left <= right:\n",
        "    mid = left + (right - left) // 2  # calculate the middle index\n",
        "    \n",
        "    if nums[mid] == target:\n",
        "      return mid  # target found, return the index\n",
        "    \n",
        "    if nums[mid] < target:\n",
        "      left = mid + 1  # target is in the right half\n",
        "    else:\n",
        "      right = mid - 1  # target is in the left half\n",
        "\n",
        "  return left  # target not found, return the index where it would be inserted\n",
        "\n",
        "print(searchInsert([1,3,5,6], 5))\n",
        "print(searchInsert([1,3,5,6], 2))"
      ],
      "metadata": {
        "colab": {
          "base_uri": "https://localhost:8080/"
        },
        "id": "LkHjGGlw3NAe",
        "outputId": "c35b174c-cc8f-44f6-ebf7-d22848337160"
      },
      "execution_count": 6,
      "outputs": [
        {
          "output_type": "stream",
          "name": "stdout",
          "text": [
            "2\n",
            "1\n"
          ]
        }
      ]
    },
    {
      "cell_type": "markdown",
      "source": [
        "## **Q4. You are given a large integer represented as an integer array digits, where each digits[i] is the ith digit of the integer. The digits are ordered from most significant to least significant in left-to-right order. The large integer does not contain any leading 0's.**\n",
        "\n",
        "## **Increment the large integer by one and return the resulting array of digits.**"
      ],
      "metadata": {
        "id": "S1i6XRjt5Vf5"
      }
    },
    {
      "cell_type": "code",
      "source": [
        "def plusOne(digits):\n",
        "  carry = 1  # Initialize carry to 1\n",
        "\n",
        "  for i in range(len(digits) - 1, -1, -1):\n",
        "    digits[i] += carry\n",
        "    if digits[i] < 10:\n",
        "        carry = 0\n",
        "        break\n",
        "    digits[i] %= 10\n",
        "\n",
        "  if carry == 1:\n",
        "    digits.insert(0, 1)\n",
        "\n",
        "  return digits\n",
        "\n",
        "print(plusOne([1,2,3]))\n",
        "print(plusOne([1,9,9]))\n",
        "print(plusOne([9,9,9]))"
      ],
      "metadata": {
        "colab": {
          "base_uri": "https://localhost:8080/"
        },
        "id": "P1jOwLw-5Nvz",
        "outputId": "6684a2ad-be37-4608-e043-4d116ab1b1a8"
      },
      "execution_count": 9,
      "outputs": [
        {
          "output_type": "stream",
          "name": "stdout",
          "text": [
            "[1, 2, 4]\n",
            "[2, 0, 0]\n",
            "[1, 0, 0, 0]\n"
          ]
        }
      ]
    },
    {
      "cell_type": "markdown",
      "source": [
        "## **Q5. You are given two integer arrays nums1 and nums2, sorted in non-decreasing order, and two integers m and n, representing the number of elements in nums1 and nums2 respectively.**\n",
        "\n",
        "## **Merge nums1 and nums2 into a single array sorted in non-decreasing order.**\n",
        "\n",
        "## **The final sorted array should not be returned by the function, but instead be stored inside the array nums1. To accommodate this, nums1 has a length of m + n, where the first m elements denote the elements that should be merged, and the last n elements are set to 0 and should be ignored. nums2 has a length of n.**"
      ],
      "metadata": {
        "id": "jNOA2ZtG6V44"
      }
    },
    {
      "cell_type": "code",
      "source": [
        "def merge(nums1, m, nums2, n):\n",
        "  i = m - 1  # Index for the last element of nums1\n",
        "  j = n - 1  # Index for the last element of nums2\n",
        "  k = m + n - 1  # Index for the last position of the merged array\n",
        "\n",
        "  while i >= 0 and j >= 0:\n",
        "    if nums1[i] >= nums2[j]:\n",
        "        nums1[k] = nums1[i]\n",
        "        i -= 1\n",
        "    else:\n",
        "        nums1[k] = nums2[j]\n",
        "        j -= 1\n",
        "    k -= 1\n",
        "\n",
        "  # Copy any remaining elements from nums2 to nums1\n",
        "  while j >= 0:\n",
        "    nums1[k] = nums2[j]\n",
        "    j -= 1\n",
        "    k -= 1\n",
        "\n",
        "  return nums1\n",
        "\n",
        "print(merge([1,2,3,0,0,0], 3, [2,5,6], 3))"
      ],
      "metadata": {
        "colab": {
          "base_uri": "https://localhost:8080/"
        },
        "id": "612evGBX56Zt",
        "outputId": "9603f1a9-1005-428e-f272-71ebca21b475"
      },
      "execution_count": 11,
      "outputs": [
        {
          "output_type": "stream",
          "name": "stdout",
          "text": [
            "[1, 2, 2, 3, 5, 6]\n"
          ]
        }
      ]
    },
    {
      "cell_type": "markdown",
      "source": [
        "## **Q6. Given an integer array nums, return true if any value appears at least twice in the array, and return false if every element is distinct.**"
      ],
      "metadata": {
        "id": "dOlpZms29F61"
      }
    },
    {
      "cell_type": "code",
      "source": [
        "def containsDuplicate(nums):\n",
        "  num_set = set()\n",
        "\n",
        "  for num in nums:\n",
        "    if num in num_set:\n",
        "      return True\n",
        "    num_set.add(num)\n",
        "\n",
        "  return False\n",
        "\n",
        "print(containsDuplicate([1,2,3,1]))"
      ],
      "metadata": {
        "colab": {
          "base_uri": "https://localhost:8080/"
        },
        "id": "IhsG6cM562P1",
        "outputId": "7329f228-fdd6-431b-e258-fa1a4a1a05d5"
      },
      "execution_count": 13,
      "outputs": [
        {
          "output_type": "stream",
          "name": "stdout",
          "text": [
            "True\n"
          ]
        }
      ]
    },
    {
      "cell_type": "markdown",
      "source": [
        "## **Q7. Given an integer array nums, move all 0's to the end of it while maintaining the relative order of the nonzero elements.**\n",
        "\n",
        "## **Note that you must do this in-place without making a copy of the array.**"
      ],
      "metadata": {
        "id": "w39Cu0w3ABot"
      }
    },
    {
      "cell_type": "code",
      "source": [
        "def moveZeroes(nums):\n",
        "  n = len(nums)\n",
        "  left = 0  # Pointer to track the position of the last non-zero element\n",
        "\n",
        "  for i in range(n):\n",
        "    if nums[i] != 0:\n",
        "        nums[i], nums[left] = nums[left], nums[i]\n",
        "        left += 1\n",
        "\n",
        "  # Fill the remaining elements with zeros\n",
        "  for i in range(left, n):\n",
        "    nums[i] = 0\n",
        "  \n",
        "  return nums\n",
        "\n",
        "print(moveZeroes([0,1,0,3,12]))"
      ],
      "metadata": {
        "colab": {
          "base_uri": "https://localhost:8080/"
        },
        "id": "gt4Rhr-M_g2V",
        "outputId": "87c22cb8-66c6-407b-c17b-30b0f2c4c361"
      },
      "execution_count": 15,
      "outputs": [
        {
          "output_type": "stream",
          "name": "stdout",
          "text": [
            "[1, 3, 12, 0, 0]\n"
          ]
        }
      ]
    },
    {
      "cell_type": "markdown",
      "source": [
        "## **Q8.You have a set of integers s, which originally contains all the numbers from 1 to n. Unfortunately, due to some error, one of the numbers in s got duplicated to another number in the set, which results in repetition of one number and loss of another number.** \n",
        "\n",
        "## **You are given an integer array nums representing the data status of this set after the error.** \n",
        "\n",
        "## **Find the number that occurs twice and the number that is missing and return them in the form of an array.** "
      ],
      "metadata": {
        "id": "7-WoHdEDDKzm"
      }
    },
    {
      "cell_type": "code",
      "source": [
        "def findErrorNums(nums):\n",
        "  n = len(nums)\n",
        "  xor = 0\n",
        "\n",
        "  # Compute the XOR of all the numbers in nums and the numbers from 1 to n\n",
        "  for num in nums:\n",
        "    xor ^= num\n",
        "\n",
        "  for i in range(1, n + 1):\n",
        "    xor ^= i\n",
        "\n",
        "  # Find the rightmost set bit in the XOR result\n",
        "  rightmost_set_bit = xor & ~(xor - 1)\n",
        "\n",
        "  duplicate = missing = 0\n",
        "\n",
        "  # Separate the numbers into two groups based on the rightmost set bit\n",
        "  for num in nums:\n",
        "    if num & rightmost_set_bit:\n",
        "        duplicate ^= num\n",
        "    else:\n",
        "        missing ^= num\n",
        "\n",
        "  for i in range(1, n + 1):\n",
        "    if i & rightmost_set_bit:\n",
        "        duplicate ^= i\n",
        "    else:\n",
        "        missing ^= i\n",
        "\n",
        "  # Check which number is missing or duplicate\n",
        "  for num in nums:\n",
        "    if num == duplicate:\n",
        "      return [duplicate, missing]\n",
        "\n",
        "  return [missing, duplicate]\n",
        "\n",
        "print(findErrorNums([1,2,2,4]))"
      ],
      "metadata": {
        "colab": {
          "base_uri": "https://localhost:8080/"
        },
        "id": "aDBzZhUiA6Dj",
        "outputId": "aa35df6e-6073-421b-c7a5-f9ccbd83fcc4"
      },
      "execution_count": 16,
      "outputs": [
        {
          "output_type": "stream",
          "name": "stdout",
          "text": [
            "[2, 3]\n"
          ]
        }
      ]
    },
    {
      "cell_type": "code",
      "source": [],
      "metadata": {
        "id": "4EoZzN6hDuPK"
      },
      "execution_count": null,
      "outputs": []
    }
  ]
}